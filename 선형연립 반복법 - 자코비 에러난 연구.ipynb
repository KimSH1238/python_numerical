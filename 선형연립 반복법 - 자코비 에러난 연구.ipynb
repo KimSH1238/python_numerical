{
 "cells": [
  {
   "cell_type": "markdown",
   "id": "6bec78c5",
   "metadata": {},
   "source": [
    "# jacobi\n",
    "\n",
    "동일한 행렬 사용"
   ]
  },
  {
   "cell_type": "code",
   "execution_count": 23,
   "id": "2bd2543f",
   "metadata": {},
   "outputs": [],
   "source": [
    "import numpy as np\n",
    "\n",
    "A=np.array([[2,1,0],\n",
    "            [1,4,-1],\n",
    "            [0,-1,7]])\n",
    "b=np.array([4,6,19])"
   ]
  },
  {
   "cell_type": "code",
   "execution_count": 24,
   "id": "7c5c7672",
   "metadata": {},
   "outputs": [
    {
     "name": "stdout",
     "output_type": "stream",
     "text": [
      "N =  1\n",
      "[[2.    1.5   2.714]\n",
      " [2.    1.5   2.714]\n",
      " [2.    1.5   2.714]] \n",
      "\n",
      "N =  2\n",
      "[[1.    0.75  1.357]\n",
      " [2.    1.5   2.714]\n",
      " [2.286 1.714 3.102]] \n",
      "\n",
      "N =  3\n",
      "[[1.    0.75  1.357]\n",
      " [2.321 1.741 3.151]\n",
      " [2.286 1.714 3.102]] \n",
      "\n",
      "N =  4\n",
      "[[0.839 0.629 1.139]\n",
      " [2.321 1.741 3.151]\n",
      " [2.332 1.749 3.164]] \n",
      "\n",
      "N =  5\n",
      "[[0.839 0.629 1.139]\n",
      " [2.373 1.78  3.221]\n",
      " [2.332 1.749 3.164]] \n",
      "\n",
      "N =  6\n",
      "[[0.813 0.61  1.104]\n",
      " [2.373 1.78  3.221]\n",
      " [2.339 1.754 3.174]] \n",
      "\n",
      "N =  7\n",
      "[[0.813 0.61  1.104]\n",
      " [2.381 1.786 3.232]\n",
      " [2.339 1.754 3.174]] \n",
      "\n",
      "N =  8\n",
      "[[0.809 0.607 1.098]\n",
      " [2.381 1.786 3.232]\n",
      " [2.34  1.755 3.176]] \n",
      "\n",
      "N =  9\n",
      "[[0.809 0.607 1.098]\n",
      " [2.383 1.787 3.234]\n",
      " [2.34  1.755 3.176]] \n",
      "\n",
      "N =  10\n",
      "[[0.809 0.606 1.097]\n",
      " [2.383 1.787 3.234]\n",
      " [2.34  1.755 3.176]] \n",
      "\n"
     ]
    }
   ],
   "source": [
    "import numpy as np\n",
    "N=10\n",
    "xo=np.zeros((len(b),1))\n",
    "# 초기값 영벡터로 통일, b주는 값에 맞게\n",
    "\n",
    "L=np.tril(A,-1)\n",
    "U=np.triu(A,1)\n",
    "D=np.diag(np.diag(A)) #그냥 하면 벡터로 > 이중으로 해야 행렬\n",
    "\n",
    "invD=np.linalg.inv(D)\n",
    "former=invD@b\n",
    "\n",
    "for k in range(N):\n",
    "    latter= -(invD@(L+U))@xo\n",
    "    xnew=former+latter\n",
    "    xo=xnew\n",
    "    print('N = ',k+1)\n",
    "    np.set_printoptions(precision=3)\n",
    "    print(xnew,'\\n')"
   ]
  },
  {
   "cell_type": "markdown",
   "id": "734d9d31",
   "metadata": {},
   "source": [
    "책과의 결과가 다르게 나오는 부분\n",
    "\n",
    "## Gauss-Seidel"
   ]
  },
  {
   "cell_type": "code",
   "execution_count": 25,
   "id": "a13fd242",
   "metadata": {},
   "outputs": [
    {
     "name": "stdout",
     "output_type": "stream",
     "text": [
      "N =  1\n",
      "[[2.    3.    9.5  ]\n",
      " [0.5   0.75  2.375]\n",
      " [0.643 0.964 3.054]]\n",
      "N =  2\n",
      "[[1.75  2.625 8.312]\n",
      " [0.723 1.085 3.435]\n",
      " [0.675 1.012 3.205]]\n",
      "N =  3\n",
      "[[1.638 2.458 7.782]\n",
      " [0.759 1.139 3.606]\n",
      " [0.68  1.02  3.229]]\n",
      "N =  4\n",
      "[[1.62  2.431 7.697]\n",
      " [0.765 1.147 3.633]\n",
      " [0.681 1.021 3.233]]\n",
      "N =  5\n",
      "[[1.618 2.426 7.683]\n",
      " [0.766 1.149 3.637]\n",
      " [0.681 1.021 3.234]]\n",
      "N =  6\n",
      "[[1.617 2.426 7.681]\n",
      " [0.766 1.149 3.638]\n",
      " [0.681 1.021 3.234]]\n",
      "N =  7\n",
      "[[1.617 2.426 7.681]\n",
      " [0.766 1.149 3.638]\n",
      " [0.681 1.021 3.234]]\n",
      "N =  8\n",
      "[[1.617 2.426 7.681]\n",
      " [0.766 1.149 3.638]\n",
      " [0.681 1.021 3.234]]\n",
      "N =  9\n",
      "[[1.617 2.426 7.681]\n",
      " [0.766 1.149 3.638]\n",
      " [0.681 1.021 3.234]]\n",
      "N =  10\n",
      "[[1.617 2.426 7.681]\n",
      " [0.766 1.149 3.638]\n",
      " [0.681 1.021 3.234]]\n"
     ]
    }
   ],
   "source": [
    "N=10\n",
    "xo=np.zeros((len(b),1))\n",
    "\n",
    "L=np.tril(A,-1)\n",
    "U=np.triu(A,1)\n",
    "D=np.diag(np.diag(A))\n",
    "\n",
    "invLD=np.linalg.inv(L+D)\n",
    "former=invLD\n",
    "\n",
    "for k in range(N):\n",
    "    latter=b-U@xo\n",
    "    xnew=former@latter\n",
    "    xo=xnew\n",
    "    print('N = ',k+1)\n",
    "    np.set_printoptions(precision=3)\n",
    "    print(xnew)"
   ]
  },
  {
   "cell_type": "code",
   "execution_count": null,
   "id": "777671a6",
   "metadata": {},
   "outputs": [],
   "source": []
  }
 ],
 "metadata": {
  "kernelspec": {
   "display_name": "Python 3 (ipykernel)",
   "language": "python",
   "name": "python3"
  },
  "language_info": {
   "codemirror_mode": {
    "name": "ipython",
    "version": 3
   },
   "file_extension": ".py",
   "mimetype": "text/x-python",
   "name": "python",
   "nbconvert_exporter": "python",
   "pygments_lexer": "ipython3",
   "version": "3.10.9"
  }
 },
 "nbformat": 4,
 "nbformat_minor": 5
}
