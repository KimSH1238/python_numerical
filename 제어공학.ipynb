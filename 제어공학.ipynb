{
 "cells": [
  {
   "cell_type": "code",
   "execution_count": 1,
   "id": "2ea5b9dd",
   "metadata": {},
   "outputs": [
    {
     "data": {
      "text/latex": [
       "$\\displaystyle - \\frac{s \\left(s + 2\\right)}{s + 1} - \\frac{s \\left(s + 3\\right)}{s + 1} + \\frac{s \\left(s + 2\\right) \\left(s + 3\\right)}{\\left(s + 1\\right)^{2}} - \\frac{\\left(s + 2\\right) \\left(s + 3\\right)}{s + 1}$"
      ],
      "text/plain": [
       "-s*(s + 2)/(s + 1) - s*(s + 3)/(s + 1) + s*(s + 2)*(s + 3)/(s + 1)**2 - (s + 2)*(s + 3)/(s + 1)"
      ]
     },
     "execution_count": 1,
     "metadata": {},
     "output_type": "execute_result"
    }
   ],
   "source": [
    "import sympy as sp\n",
    "s=sp.symbols('s')\n",
    "\n",
    "eq=-s*(s+2)*(s+3)/(s+1)\n",
    "deq=sp.diff(eq,s)\n",
    "deq"
   ]
  },
  {
   "cell_type": "code",
   "execution_count": 2,
   "id": "abfa2bea",
   "metadata": {},
   "outputs": [
    {
     "data": {
      "text/latex": [
       "$\\displaystyle - \\frac{s^{3}}{3} - 2 s^{2} - 2 s + 2 \\log{\\left(s + 1 \\right)}$"
      ],
      "text/plain": [
       "-s**3/3 - 2*s**2 - 2*s + 2*log(s + 1)"
      ]
     },
     "execution_count": 2,
     "metadata": {},
     "output_type": "execute_result"
    }
   ],
   "source": [
    "import sympy as sp\n",
    "s=sp.symbols('s')\n",
    "\n",
    "eq=-s*(s+2)*(s+3)/(s+1)\n",
    "ieq=sp.integrate(eq,s)\n",
    "ieq"
   ]
  },
  {
   "cell_type": "code",
   "execution_count": null,
   "id": "9f125f6c",
   "metadata": {},
   "outputs": [],
   "source": []
  }
 ],
 "metadata": {
  "kernelspec": {
   "display_name": "Python 3 (ipykernel)",
   "language": "python",
   "name": "python3"
  },
  "language_info": {
   "codemirror_mode": {
    "name": "ipython",
    "version": 3
   },
   "file_extension": ".py",
   "mimetype": "text/x-python",
   "name": "python",
   "nbconvert_exporter": "python",
   "pygments_lexer": "ipython3",
   "version": "3.10.9"
  }
 },
 "nbformat": 4,
 "nbformat_minor": 5
}
