{
 "cells": [
  {
   "cell_type": "markdown",
   "id": "8f7103bc",
   "metadata": {},
   "source": [
    "#### HW3 32140704 김성환\n",
    "\n",
    "급수에서 합이 일정 값에 수렴하면 수렴이고, 일정 값에 수렴하지 않으면 발산이다."
   ]
  },
  {
   "cell_type": "markdown",
   "id": "e1f5807d",
   "metadata": {},
   "source": [
    "Q 5.3"
   ]
  },
  {
   "cell_type": "code",
   "execution_count": 24,
   "id": "bd8149f2",
   "metadata": {},
   "outputs": [
    {
     "data": {
      "text/plain": [
       "-2"
      ]
     },
     "execution_count": 24,
     "metadata": {},
     "output_type": "execute_result"
    }
   ],
   "source": [
    "import numpy as np\n",
    "n=np.array([0,0,0,0])\n",
    "\n",
    "for i in range(len(n)-1):\n",
    "    n[0]=1\n",
    "    n[i+1]=1.1*n[i]-1\n",
    "n[3]"
   ]
  },
  {
   "cell_type": "markdown",
   "id": "a974b13d",
   "metadata": {},
   "source": [
    "Q 5.5"
   ]
  },
  {
   "cell_type": "code",
   "execution_count": 27,
   "id": "c2a91af5",
   "metadata": {},
   "outputs": [
    {
     "data": {
      "text/plain": [
       "-1"
      ]
     },
     "execution_count": 27,
     "metadata": {},
     "output_type": "execute_result"
    }
   ],
   "source": [
    "import numpy as np\n",
    "n=np.array([0,0,0,0])\n",
    "\n",
    "for i in range(len(n)-1):\n",
    "    n[0]=1\n",
    "    n[i+1]=0.1*n[i]-1\n",
    "n[3]"
   ]
  },
  {
   "cell_type": "markdown",
   "id": "7282c173",
   "metadata": {},
   "source": [
    "Q 5.7"
   ]
  },
  {
   "cell_type": "code",
   "execution_count": 28,
   "id": "dc14b984",
   "metadata": {},
   "outputs": [
    {
     "data": {
      "text/plain": [
       "-2"
      ]
     },
     "execution_count": 28,
     "metadata": {},
     "output_type": "execute_result"
    }
   ],
   "source": [
    "import numpy as np\n",
    "n=np.array([0,0,0,0])\n",
    "\n",
    "for i in range(len(n)-1):\n",
    "    n[0]=1\n",
    "    n[i+1]=1.3*n[i]-1\n",
    "n[3]"
   ]
  },
  {
   "cell_type": "markdown",
   "id": "4afb582b",
   "metadata": {},
   "source": [
    "Q 5.9"
   ]
  },
  {
   "cell_type": "code",
   "execution_count": 31,
   "id": "6a0b1800",
   "metadata": {},
   "outputs": [
    {
     "data": {
      "text/plain": [
       "0"
      ]
     },
     "execution_count": 31,
     "metadata": {},
     "output_type": "execute_result"
    }
   ],
   "source": [
    "import numpy as np\n",
    "n=np.array([0,0,0,0,0,0])\n",
    "\n",
    "for i in range(len(n)-1):\n",
    "    n[0]=1\n",
    "    n[i+1]=0.1*n[i]\n",
    "n[5]"
   ]
  },
  {
   "cell_type": "markdown",
   "id": "c9035758",
   "metadata": {},
   "source": [
    "검토 :\n",
    "\n",
    "모든 문제에서 n벡터를 검토해보니, 수식이 다 옳지 않다고 판단되는 값이 도출되었다."
   ]
  },
  {
   "cell_type": "code",
   "execution_count": null,
   "id": "af3130a5",
   "metadata": {},
   "outputs": [],
   "source": []
  }
 ],
 "metadata": {
  "kernelspec": {
   "display_name": "Python 3 (ipykernel)",
   "language": "python",
   "name": "python3"
  },
  "language_info": {
   "codemirror_mode": {
    "name": "ipython",
    "version": 3
   },
   "file_extension": ".py",
   "mimetype": "text/x-python",
   "name": "python",
   "nbconvert_exporter": "python",
   "pygments_lexer": "ipython3",
   "version": "3.10.9"
  }
 },
 "nbformat": 4,
 "nbformat_minor": 5
}
