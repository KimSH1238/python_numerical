{
 "cells": [
  {
   "cell_type": "markdown",
   "id": "fb718e4a",
   "metadata": {},
   "source": [
    "# HW 2\n",
    "## 32140704 김성환\n",
    "\n",
    "ch2"
   ]
  },
  {
   "cell_type": "code",
   "execution_count": 8,
   "id": "76c230e6",
   "metadata": {},
   "outputs": [
    {
     "name": "stdout",
     "output_type": "stream",
     "text": [
      "Q 2.2\n",
      "\n",
      "['python', 'is', 'fun'] \n",
      "\n",
      "mylist2 = python,is,fun\n"
     ]
    }
   ],
   "source": [
    "print('Q 2.2\\n')\n",
    "\n",
    "mylist2=['python','is','fun']\n",
    "print(mylist2,'\\n')\n",
    "print(f'mylist2 = {mylist2[0]},{mylist2[1]},{mylist2[2]}')"
   ]
  },
  {
   "cell_type": "code",
   "execution_count": 9,
   "id": "cff982ef",
   "metadata": {},
   "outputs": [
    {
     "name": "stdout",
     "output_type": "stream",
     "text": [
      "Q 2.4\n",
      "\n",
      "a =  [1 2 3 4 5]\n"
     ]
    }
   ],
   "source": [
    "print('Q 2.4\\n')\n",
    "import numpy as np\n",
    "\n",
    "a=np.array([1,2,3,4,5])\n",
    "print('a = ',a)"
   ]
  },
  {
   "cell_type": "code",
   "execution_count": 11,
   "id": "0127241c",
   "metadata": {},
   "outputs": [
    {
     "name": "stdout",
     "output_type": "stream",
     "text": [
      "Q 2.6\n",
      "\n",
      "c = a + b =  [ 92  94  96  98 100]\n",
      "d = a - b =  [-90 -90 -90 -90 -90]\n"
     ]
    }
   ],
   "source": [
    "print('Q 2.6\\n')\n",
    "import numpy as np\n",
    "\n",
    "a=np.array([1,2,3,4,5])\n",
    "b=np.array([91,92,93,94,95])\n",
    "c=a+b\n",
    "d=a-b\n",
    "\n",
    "print('c = a + b = ',c)\n",
    "print('d = a - b = ',d)"
   ]
  },
  {
   "cell_type": "code",
   "execution_count": 15,
   "id": "6d0603ec",
   "metadata": {},
   "outputs": [
    {
     "name": "stdout",
     "output_type": "stream",
     "text": [
      "Q 2.8\n",
      "\n",
      "B =\n",
      " [[  1   2  99]\n",
      " [  3   4 100]\n",
      " [  5   6 101]]\n"
     ]
    }
   ],
   "source": [
    "print('Q 2.8\\n')\n",
    "import numpy as np\n",
    "\n",
    "B=np.array([[1,2,99],\n",
    "            [3,4,100],\n",
    "            [5,6,101]])\n",
    "print('B =\\n',B)"
   ]
  },
  {
   "cell_type": "markdown",
   "id": "c4abf66d",
   "metadata": {},
   "source": [
    "행렬의 형태가 깨져서 나오는 것은 어쩔 수가 없어, Pandas 같은 다른 라이브러리의 호출이 필요한 것으로 추측된다."
   ]
  },
  {
   "cell_type": "code",
   "execution_count": 20,
   "id": "4041b2fa",
   "metadata": {},
   "outputs": [
    {
     "name": "stdout",
     "output_type": "stream",
     "text": [
      "Q 2.10\n",
      "\n",
      "score = 82 grade = B\n",
      "score = 87 grade = B\n",
      "score = 129 grade = A\n"
     ]
    }
   ],
   "source": [
    "print('Q 2.10\\n')\n",
    "import numpy as np\n",
    "import random\n",
    "\n",
    "num1=random.randrange(1,151)\n",
    "num2=random.randrange(1,151)\n",
    "num3=random.randrange(1,151)\n",
    "num=np.array([num1,num2,num3])\n",
    "\n",
    "for i in range(len(num)):\n",
    "    if num[i] >=90:\n",
    "        print('score =',num[i],'grade = A')\n",
    "    else:\n",
    "        print('score =',num[i],'grade = B')"
   ]
  },
  {
   "cell_type": "code",
   "execution_count": 28,
   "id": "4989994b",
   "metadata": {},
   "outputs": [
    {
     "name": "stdout",
     "output_type": "stream",
     "text": [
      "Q 2.10\n",
      "\n",
      "score = 76 grade = C\n",
      "score = 135 grade = A\n",
      "score = 83 grade = B\n"
     ]
    }
   ],
   "source": [
    "print('Q 2.10\\n')\n",
    "import numpy as np\n",
    "import random\n",
    "\n",
    "num1=random.randrange(1,151)\n",
    "num2=random.randrange(1,151)\n",
    "num3=random.randrange(1,151)\n",
    "num=np.array([num1,num2,num3])\n",
    "\n",
    "for i in range(len(num)):\n",
    "    if num[i] >=90:\n",
    "        print('score =',num[i],'grade = A')\n",
    "    elif num[i] >=80:\n",
    "        print('score =',num[i],'grade = B')\n",
    "    else:\n",
    "        print('score =',num[i],'grade = C')"
   ]
  },
  {
   "cell_type": "markdown",
   "id": "55dd872e",
   "metadata": {},
   "source": [
    "ch3"
   ]
  },
  {
   "cell_type": "markdown",
   "id": "83ab70f8",
   "metadata": {},
   "source": [
    "## 수치해석 보고서\n",
    "### 목적: 수치해석에 대한 내용을 Markdown으로 정리한다.\n",
    "\n",
    "#### 수치해석의 기본 과정\n",
    "1. 알고리즘에 대한 이해\n",
    "2. 프로그램 작성\n",
    "3. 프로그램 실행 및 검증\n",
    "\n",
    "#### 예제: 다음에 주어진 방정식의 해를 구하시오.\n",
    "> $x e^{-x} + 1 = 0$\n",
    "\n",
    "다음은 반복적인 과정을 반복하여 문제를 해결하는 방법이다.\n",
    ">\\begin{equation}\n",
    "    x^{(k+!)}+i = x^{(k)}_i - \\frac{5x^{(k)} - 3}{5}\n",
    "\\end{equation}\n",
    "\n",
    "#### 예제: 다음에 주어진 연립 방정식의 해를 구하시오.\n",
    ">Ax = b, \n",
    "\n",
    "여기서\n",
    "\n",
    ">\\begin{equation}\n",
    "    A = \\begin{bmatrix}\n",
    "            1 & 2 \\\\\n",
    "            3 & 4\n",
    "        \\end{bmatrix},\n",
    "    B = \\begin{pmatrix}\n",
    "            99 \\\\ 100\n",
    "        \\end{pmatrix}\n",
    "\\end{equation}\n",
    "\n",
    "연립 방정식의 해는 다음과 같이 계산할 수 있다.\n",
    "\n",
    ">\\begin{equation}\n",
    "    x = A^{-1}b\n",
    "\\end{equation}\n",
    "\n",
    "따라서,\n",
    "\n",
    ">\\begin{equation}\n",
    "    x = \\begin{bmatrix}\n",
    "            1 & 2 \\\\\n",
    "            3 & 4\n",
    "        \\end{bmatrix}^{-1}\n",
    "    \\begin{pmatrix}\n",
    "        99 \\\\\n",
    "        100\n",
    "    \\end{pmatrix}\n",
    "\\end{equation}\n",
    "\n",
    "#### 결론: Markdown으로 작성한 수치해석 보고서를 제출합니다."
   ]
  },
  {
   "cell_type": "markdown",
   "id": "7f4a6227",
   "metadata": {},
   "source": [
    "(예제 1 : 뉴턴해법이라고도 생각되지 않고 무슨 해법인지 알 수가 없습니다.)\n",
    "\n",
    "식 뒤에 문자를 넣는 것보다 문자를 따로 빼고 식만 작성하는 것이 더 이해하기 깔끔해서 그렇게 하였습니다.\n",
    "\n",
    ">\\begin{equation}\n",
    "    x = \\frac{1}{1\\times4 - 2\\times3}\n",
    "    \\begin{bmatrix}\n",
    "        4 & -2 \\\\\n",
    "        -3 & 1\n",
    "    \\end{bmatrix}\n",
    "    \\times\n",
    "    \\begin{pmatrix}\n",
    "        99 \\\\\n",
    "        100\n",
    "    \\end{pmatrix}\n",
    "\\end{equation}"
   ]
  },
  {
   "cell_type": "markdown",
   "id": "05c8904b",
   "metadata": {},
   "source": [
    "#### Q 3.2\n",
    "Python is *fun* to learn\n",
    "\n",
    "**Python** is a great computer language"
   ]
  },
  {
   "cell_type": "markdown",
   "id": "a5e875c0",
   "metadata": {},
   "source": [
    "#### Q 3.4\n",
    ">\\begin{equation}\n",
    "    \\sqrt{2}=1.414\n",
    "\\end{equation}\n",
    "\n",
    ">\\begin{equation}\n",
    "    \\frac{a}{b}=3.14\n",
    "\\end{equation}\n",
    "\n",
    "#### Q 3.6\n",
    ">\\begin{equation}\n",
    "    x^{(k+1)}_j = 0.4x^{(k)}_j + 1.1\n",
    "\\end{equation}\n",
    "\n",
    "#### Q 3.8\n",
    ">\\begin{equation}\n",
    "    \\sum_{i=0}^{n}a_i = a_1 + a_2 + ...\n",
    "\\end{equation}\n",
    "\n",
    "#### Q 3.10\n",
    ">\\begin{equation}\n",
    "    \\sum_{i=0}^{n} (y_i - b - ax_i)^{2}\n",
    "\\end{equation}\n",
    "\n",
    "#### Q 3.12\n",
    ">\\begin{equation}\n",
    "    \\frac{dy}{dt} = -xe^{x} + 3\n",
    "\\end{equation}\n",
    "\n",
    "모든 예제에 나오는 기능함수를 다 작성해보았습니다."
   ]
  },
  {
   "cell_type": "code",
   "execution_count": null,
   "id": "604f8d2f",
   "metadata": {},
   "outputs": [],
   "source": []
  }
 ],
 "metadata": {
  "kernelspec": {
   "display_name": "Python 3 (ipykernel)",
   "language": "python",
   "name": "python3"
  },
  "language_info": {
   "codemirror_mode": {
    "name": "ipython",
    "version": 3
   },
   "file_extension": ".py",
   "mimetype": "text/x-python",
   "name": "python",
   "nbconvert_exporter": "python",
   "pygments_lexer": "ipython3",
   "version": "3.10.9"
  }
 },
 "nbformat": 4,
 "nbformat_minor": 5
}
