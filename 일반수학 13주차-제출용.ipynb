{
 "cells": [
  {
   "cell_type": "markdown",
   "id": "47d759f2",
   "metadata": {},
   "source": [
    "## 14.1.3)"
   ]
  },
  {
   "cell_type": "code",
   "execution_count": 9,
   "id": "07ab01d9",
   "metadata": {},
   "outputs": [
    {
     "data": {
      "text/latex": [
       "$\\displaystyle \\begin{cases} - \\frac{y \\cos{\\left(x y \\right)}}{x} + \\frac{\\sin{\\left(x y \\right)}}{x^{2}} & \\text{for}\\: x \\neq 0 \\\\0 & \\text{otherwise} \\end{cases}$"
      ],
      "text/plain": [
       "Piecewise((-y*cos(x*y)/x + sin(x*y)/x**2, Ne(x, 0)), (0, True))"
      ]
     },
     "execution_count": 9,
     "metadata": {},
     "output_type": "execute_result"
    }
   ],
   "source": [
    "import sympy as sp\n",
    "y=sp.symbols('y')\n",
    "x=sp.symbols('x')\n",
    "\n",
    "eq=y*sp.sin(x*y)\n",
    "ieq=sp.integrate(eq,y)\n",
    "ieq"
   ]
  },
  {
   "cell_type": "code",
   "execution_count": 8,
   "id": "00899d32",
   "metadata": {},
   "outputs": [
    {
     "data": {
      "text/latex": [
       "$\\displaystyle - \\pi \\left(- \\log{\\left(x \\right)} + \\frac{\\log{\\left(x^{2} \\right)}}{2} + \\operatorname{Ci}{\\left(\\pi x \\right)}\\right) - \\pi \\log{\\left(x \\right)} + \\frac{\\pi \\log{\\left(x^{2} \\right)}}{2} + \\pi \\operatorname{Ci}{\\left(\\pi x \\right)} - \\frac{\\sin{\\left(\\pi x \\right)}}{x}$"
      ],
      "text/plain": [
       "-pi*(-log(x) + log(x**2)/2 + Ci(pi*x)) - pi*log(x) + pi*log(x**2)/2 + pi*Ci(pi*x) - sin(pi*x)/x"
      ]
     },
     "execution_count": 8,
     "metadata": {},
     "output_type": "execute_result"
    }
   ],
   "source": [
    "import sympy as sp\n",
    "x=sp.symbols('x')\n",
    "\n",
    "eq=-sp.pi*sp.cos(sp.pi*x)/x + sp.sin(sp.pi*x)/x**2\n",
    "ieq=sp.integrate(eq,x)\n",
    "ieq"
   ]
  },
  {
   "cell_type": "markdown",
   "id": "769265d7",
   "metadata": {},
   "source": [
    "## 14.1.6)"
   ]
  },
  {
   "cell_type": "code",
   "execution_count": 11,
   "id": "b1468e10",
   "metadata": {},
   "outputs": [
    {
     "data": {
      "text/latex": [
       "$\\displaystyle x \\left(\\begin{cases} - \\frac{x^{2} \\operatorname{acosh}{\\left(\\frac{y}{x} \\right)}}{2} - \\frac{x y}{2 \\sqrt{-1 + \\frac{y^{2}}{x^{2}}}} + \\frac{y^{3}}{2 x \\sqrt{-1 + \\frac{y^{2}}{x^{2}}}} & \\text{for}\\: \\left|{\\frac{y^{2}}{x^{2}}}\\right| > 1 \\\\\\frac{i x^{2} \\operatorname{asin}{\\left(\\frac{y}{x} \\right)}}{2} + \\frac{i x y \\sqrt{1 - \\frac{y^{2}}{x^{2}}}}{2} & \\text{otherwise} \\end{cases}\\right)$"
      ],
      "text/plain": [
       "x*Piecewise((-x**2*acosh(y/x)/2 - x*y/(2*sqrt(-1 + y**2/x**2)) + y**3/(2*x*sqrt(-1 + y**2/x**2)), Abs(y**2/x**2) > 1), (I*x**2*asin(y/x)/2 + I*x*y*sqrt(1 - y**2/x**2)/2, True))"
      ]
     },
     "execution_count": 11,
     "metadata": {},
     "output_type": "execute_result"
    }
   ],
   "source": [
    "import sympy as sp\n",
    "x=sp.symbols('x')\n",
    "y=sp.symbols('y')\n",
    "\n",
    "eq=x*sp.sqrt(y**2-x**2)\n",
    "ieq=sp.integrate(eq,y)\n",
    "ieq"
   ]
  },
  {
   "cell_type": "code",
   "execution_count": 14,
   "id": "29d0a62e",
   "metadata": {},
   "outputs": [
    {
     "data": {
      "text/latex": [
       "$\\displaystyle x \\left(- \\frac{x^{2} \\operatorname{acosh}{\\left(\\frac{1}{x} \\right)}}{2} - \\frac{x}{2 \\sqrt{-1 + \\frac{1}{x^{2}}}} + \\frac{1}{2 x \\sqrt{-1 + \\frac{1}{x^{2}}}}\\right)$"
      ],
      "text/plain": [
       "x*(-x**2*acosh(1/x)/2 - x/(2*sqrt(-1 + x**(-2))) + 1/(2*x*sqrt(-1 + x**(-2))))"
      ]
     },
     "execution_count": 14,
     "metadata": {},
     "output_type": "execute_result"
    }
   ],
   "source": [
    "import sympy as sp\n",
    "x=sp.symbols('x')\n",
    "y=1\n",
    "\n",
    "eq=x*(-x**2*sp.acosh(y/x)/2 - x*y/(2*sp.sqrt(y**2/x**2-1)) + y**3/(2*x*sp.sqrt(y**2/x**2-1)))\n",
    "eq"
   ]
  },
  {
   "cell_type": "code",
   "execution_count": 15,
   "id": "4bbdc340",
   "metadata": {},
   "outputs": [
    {
     "data": {
      "text/latex": [
       "$\\displaystyle x \\left(\\tilde{\\infty} x^{3} + \\tilde{\\infty} x^{2}\\right)$"
      ],
      "text/plain": [
       "x*(zoo*x**3 + zoo*x**2)"
      ]
     },
     "execution_count": 15,
     "metadata": {},
     "output_type": "execute_result"
    }
   ],
   "source": [
    "import sympy as sp\n",
    "x=sp.symbols('x')\n",
    "y=sp.symbols('x')\n",
    "\n",
    "eq=x*(-x**2*sp.acosh(y/x)/2 - x*y/(2*sp.sqrt(y**2/x**2-1)) + y**3/(2*x*sp.sqrt(y**2/x**2-1)))\n",
    "eq"
   ]
  },
  {
   "cell_type": "markdown",
   "id": "7879054c",
   "metadata": {},
   "source": [
    "zero division error"
   ]
  },
  {
   "cell_type": "code",
   "execution_count": 16,
   "id": "3eeb010f",
   "metadata": {},
   "outputs": [
    {
     "data": {
      "text/latex": [
       "$\\displaystyle \\frac{x^{2} \\sqrt{- x^{2} + y^{2}}}{3} - \\frac{y^{2} \\sqrt{- x^{2} + y^{2}}}{3}$"
      ],
      "text/plain": [
       "x**2*sqrt(-x**2 + y**2)/3 - y**2*sqrt(-x**2 + y**2)/3"
      ]
     },
     "execution_count": 16,
     "metadata": {},
     "output_type": "execute_result"
    }
   ],
   "source": [
    "import sympy as sp\n",
    "x=sp.symbols('x')\n",
    "y=sp.symbols('y')\n",
    "\n",
    "eq=x*sp.sqrt(y**2-x**2)\n",
    "ieq=sp.integrate(eq,x)\n",
    "ieq"
   ]
  },
  {
   "cell_type": "code",
   "execution_count": 18,
   "id": "3c61252b",
   "metadata": {},
   "outputs": [
    {
     "data": {
      "text/latex": [
       "$\\displaystyle - \\frac{y^{2} \\sqrt{y^{2}}}{3}$"
      ],
      "text/plain": [
       "-y**2*sqrt(y**2)/3"
      ]
     },
     "execution_count": 18,
     "metadata": {},
     "output_type": "execute_result"
    }
   ],
   "source": [
    "import sympy as sp\n",
    "x=0\n",
    "y=sp.symbols('y')\n",
    "\n",
    "eq=x**2/3*sp.sqrt(y**2-x**2) - y**2/3*sp.sqrt(y**2-x**2)\n",
    "eq"
   ]
  },
  {
   "cell_type": "markdown",
   "id": "17d6fdd6",
   "metadata": {},
   "source": [
    "이 부분에서 적분표와는 달리 sin-1 함수 안나오는 에러"
   ]
  },
  {
   "cell_type": "markdown",
   "id": "a72af0c3",
   "metadata": {},
   "source": [
    "## 14.2.4)\n",
    "\n",
    "검산용으로 확인"
   ]
  },
  {
   "cell_type": "code",
   "execution_count": 26,
   "id": "77514a68",
   "metadata": {},
   "outputs": [
    {
     "data": {
      "text/latex": [
       "$\\displaystyle - \\pi e^{- r^{2}}$"
      ],
      "text/plain": [
       "-pi*exp(-r**2)"
      ]
     },
     "execution_count": 26,
     "metadata": {},
     "output_type": "execute_result"
    }
   ],
   "source": [
    "import sympy as sp\n",
    "r=sp.symbols('r')\n",
    "\n",
    "eq=2*sp.pi * r*sp.exp(-r**2)\n",
    "ieq=sp.integrate(eq,r)\n",
    "ieq"
   ]
  },
  {
   "cell_type": "markdown",
   "id": "53d4a04a",
   "metadata": {},
   "source": [
    "ㄴ 적분 결과가 전산과 다르게 나온다. 과정 확인이 필요하다\n",
    "\n",
    "## 14.2.7)"
   ]
  },
  {
   "cell_type": "code",
   "execution_count": 30,
   "id": "b623a760",
   "metadata": {},
   "outputs": [
    {
     "data": {
      "text/latex": [
       "$\\displaystyle - 0.0833333333333333 \\sin^{4}{\\left(\\theta \\right)} + 2.66666666666667 \\sin{\\left(\\theta \\right)}$"
      ],
      "text/plain": [
       "-0.0833333333333333*sin(theta)**4 + 2.66666666666667*sin(theta)"
      ]
     },
     "execution_count": 30,
     "metadata": {},
     "output_type": "execute_result"
    }
   ],
   "source": [
    "import sympy as sp\n",
    "a=sp.symbols('theta')\n",
    "\n",
    "eq=8/3*sp.cos(a) - 1/3*(sp.sin(a))**3*sp.cos(a)\n",
    "ieq=sp.integrate(eq,a)\n",
    "ieq"
   ]
  },
  {
   "cell_type": "markdown",
   "id": "df253f16",
   "metadata": {},
   "source": [
    "보고서 적분파트 끝"
   ]
  },
  {
   "cell_type": "code",
   "execution_count": null,
   "id": "b9f0c166",
   "metadata": {},
   "outputs": [],
   "source": []
  }
 ],
 "metadata": {
  "kernelspec": {
   "display_name": "Python 3 (ipykernel)",
   "language": "python",
   "name": "python3"
  },
  "language_info": {
   "codemirror_mode": {
    "name": "ipython",
    "version": 3
   },
   "file_extension": ".py",
   "mimetype": "text/x-python",
   "name": "python",
   "nbconvert_exporter": "python",
   "pygments_lexer": "ipython3",
   "version": "3.10.9"
  }
 },
 "nbformat": 4,
 "nbformat_minor": 5
}
