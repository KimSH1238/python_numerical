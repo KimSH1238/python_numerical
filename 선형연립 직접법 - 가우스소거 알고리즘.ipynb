{
 "cells": [
  {
   "cell_type": "markdown",
   "id": "b1a0886c",
   "metadata": {},
   "source": [
    "가우스소거는 복잡하여 따로 생각해본다"
   ]
  },
  {
   "cell_type": "code",
   "execution_count": 1,
   "id": "6a58208b",
   "metadata": {},
   "outputs": [],
   "source": [
    "import numpy as np\n",
    "\n",
    "A=np.array([[2.,-1],\n",
    "            [-1,1]])\n",
    "b=np.array([1.,1])"
   ]
  },
  {
   "cell_type": "code",
   "execution_count": 6,
   "id": "ed875235",
   "metadata": {},
   "outputs": [],
   "source": [
    "import numpy as np\n",
    "def gauss(A,b):\n",
    "    # form augmented matrix\n",
    "    Ab=np.hstack([A,b.reshape(-1,1)])\n",
    "    # 이 부분 검토가 필요하다\n",
    "    \n",
    "    n=len(b)\n",
    "    # forward elimination\n",
    "    for i in range(n):\n",
    "        a=np.argmax(np.abs(Ab[i:, i])) + i\n",
    "        # 이 부분 검토가 필요하다\n",
    "        \n",
    "        Ab[[i, a]] = Ab[[a, i]] #row 스왑\n",
    "        \n",
    "        for j in range(i+1, n):\n",
    "            factor = Ab[j, i]/Ab[i, i]\n",
    "            Ab[j] -= factor*Ab[i]\n",
    "            \n",
    "    # back substitution\n",
    "    x=np.zeros(n)\n",
    "    for i in range(n-1, -1, -1):\n",
    "        # range 배열 검토 필요하다\n",
    "        \n",
    "        x[i]=(Ab[i, -1] - np.dot(Ab[i, i+1:n], x[i+1:n])) / Ab[i, i]\n",
    "        # 음의 행렬인덱스와 행렬연산의 전체 검토 필요하다\n",
    "    \n",
    "    return x"
   ]
  },
  {
   "cell_type": "code",
   "execution_count": 7,
   "id": "34ed8195",
   "metadata": {},
   "outputs": [
    {
     "name": "stdout",
     "output_type": "stream",
     "text": [
      "[2. 3.]\n"
     ]
    }
   ],
   "source": [
    "import numpy as np\n",
    "x=gauss(A,b)\n",
    "\n",
    "np.set_printoptions(precision=2)\n",
    "print(x)"
   ]
  },
  {
   "cell_type": "markdown",
   "id": "a6e2a218",
   "metadata": {},
   "source": [
    "# 검토"
   ]
  },
  {
   "cell_type": "code",
   "execution_count": null,
   "id": "e7fb6cd2",
   "metadata": {},
   "outputs": [],
   "source": []
  }
 ],
 "metadata": {
  "kernelspec": {
   "display_name": "Python 3 (ipykernel)",
   "language": "python",
   "name": "python3"
  },
  "language_info": {
   "codemirror_mode": {
    "name": "ipython",
    "version": 3
   },
   "file_extension": ".py",
   "mimetype": "text/x-python",
   "name": "python",
   "nbconvert_exporter": "python",
   "pygments_lexer": "ipython3",
   "version": "3.10.9"
  }
 },
 "nbformat": 4,
 "nbformat_minor": 5
}
