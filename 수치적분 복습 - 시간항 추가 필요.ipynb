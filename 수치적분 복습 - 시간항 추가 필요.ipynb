{
 "cells": [
  {
   "cell_type": "markdown",
   "id": "6602d5b6",
   "metadata": {},
   "source": [
    "Q 10.2)"
   ]
  },
  {
   "cell_type": "code",
   "execution_count": 8,
   "id": "8750e26a",
   "metadata": {},
   "outputs": [
    {
     "name": "stdout",
     "output_type": "stream",
     "text": [
      "Inte = -4.7800\n"
     ]
    }
   ],
   "source": [
    "import numpy as np\n",
    "\n",
    "def f(x):\n",
    "    eq=x**3.+1.\n",
    "    return eq\n",
    "\n",
    "n=5\n",
    "a=2.\n",
    "b=1.\n",
    "h=(b-a)/n\n",
    "x=np.linspace(a,b,n+1) #number of point\n",
    "\n",
    "sums=0.\n",
    "for i in range(n):\n",
    "    sums += (f(x[i])+f(x[i+1]))/2.\n",
    "sums = h*sums\n",
    "print(f'Inte = {sums:0.4f}')"
   ]
  },
  {
   "cell_type": "markdown",
   "id": "fdde3729",
   "metadata": {},
   "source": [
    "simpson공식\n",
    "\n",
    "Q 10.5"
   ]
  },
  {
   "cell_type": "code",
   "execution_count": 7,
   "id": "861e9df8",
   "metadata": {},
   "outputs": [
    {
     "name": "stdout",
     "output_type": "stream",
     "text": [
      "Inte = -14.7781\n"
     ]
    }
   ],
   "source": [
    "import numpy as np\n",
    "\n",
    "# simpson 공식은 이해하기가 어려우니 아예 저장해놓고 사용한다.\n",
    "\n",
    "def f(x):\n",
    "    eq=np.exp(2)*x\n",
    "    return eq\n",
    "\n",
    "n=6\n",
    "a=2.\n",
    "b=0.\n",
    "h=(b-a)/n\n",
    "x=np.linspace(a,b,n+1)\n",
    "\n",
    "sums=f(x[0]+f(x[n]))\n",
    "for i in range(1,n):\n",
    "    if i%2==0:\n",
    "        sums += 2*f(x[i])\n",
    "    else:\n",
    "        sums += 4*f(x[i])\n",
    "sums=h*sums/3\n",
    "print(f'Inte = {sums:0.4f}')"
   ]
  },
  {
   "cell_type": "markdown",
   "id": "0609abe2",
   "metadata": {},
   "source": [
    "#### data 적분\n",
    "\n",
    "Q 10.10"
   ]
  },
  {
   "cell_type": "code",
   "execution_count": 9,
   "id": "d10fec51",
   "metadata": {},
   "outputs": [
    {
     "name": "stdout",
     "output_type": "stream",
     "text": [
      "Inte = 81.0000\n"
     ]
    }
   ],
   "source": [
    "import numpy as np\n",
    "\n",
    "fx=np.array([21., 21.5, 22., 19.5, 15.])\n",
    "a=0.\n",
    "b=4.\n",
    "\n",
    "n=len(fx)\n",
    "h=(b-a)/(n-1.)\n",
    "\n",
    "sums=0.\n",
    "for i in range(n-1):\n",
    "    sums += (fx[i]+fx[i+1])/2.\n",
    "sums =h*sums\n",
    "print(f'Inte = {sums:0.4f}')"
   ]
  },
  {
   "cell_type": "markdown",
   "id": "955679cd",
   "metadata": {},
   "source": [
    "시간에 따라 균일하게 들어오는 데이터라고 가정하고 과제를 하였으나, 실제로는 시간항이 일정하지 않고 가변하는 경우에도 계산할 수 있어야 하나 그 부분이 부족하고, simpson공식을 진행하지 못하는 점이 또 문제이다. 그러나 simpson공식의 경우 마지막 항이 맞지 않으면 그 부분만 선형적분을 해야하므로 더 많은 프로그래밍적 고찰이 필요하다."
   ]
  },
  {
   "cell_type": "markdown",
   "id": "498f21cd",
   "metadata": {},
   "source": [
    "## Qauss-quadrature\n",
    "\n",
    "Q 10.8"
   ]
  },
  {
   "cell_type": "code",
   "execution_count": 18,
   "id": "6962c2e6",
   "metadata": {},
   "outputs": [
    {
     "name": "stdout",
     "output_type": "stream",
     "text": [
      "Inte = -2.0443\n"
     ]
    }
   ],
   "source": [
    "import numpy as np\n",
    "\n",
    "# 3점 가우스 쿼드러쳐 구적법\n",
    "N=3\n",
    "w=np.array([8./9., 5./9., 5./9.])\n",
    "x=np.array([0., np.sqrt(3./5.), -np.sqrt(3./5.)])\n",
    "\n",
    "a=1.\n",
    "b=-1.\n",
    "\n",
    "alpha = (b-a)/2.\n",
    "beta=(a+b)/2.\n",
    "xi=alpha*x+beta\n",
    "\n",
    "def fxi(xi):\n",
    "    eq=np.exp(xi)/np.sqrt(xi**2.+1.)\n",
    "    return eq\n",
    "\n",
    "sums=0.\n",
    "for i in range(N):\n",
    "    sums = sums + w[i]*fxi(xi[i])\n",
    "sums = (b-a)*sums/2\n",
    "print(f'Inte = {sums:0.4f}')"
   ]
  },
  {
   "cell_type": "markdown",
   "id": "00868a1b",
   "metadata": {},
   "source": [
    "쿼드러쳐는 아예 코딩을 만들어두고 계속 따라 쓰는것이 적절하다."
   ]
  },
  {
   "cell_type": "code",
   "execution_count": null,
   "id": "4f1c4fd2",
   "metadata": {},
   "outputs": [],
   "source": []
  }
 ],
 "metadata": {
  "kernelspec": {
   "display_name": "Python 3 (ipykernel)",
   "language": "python",
   "name": "python3"
  },
  "language_info": {
   "codemirror_mode": {
    "name": "ipython",
    "version": 3
   },
   "file_extension": ".py",
   "mimetype": "text/x-python",
   "name": "python",
   "nbconvert_exporter": "python",
   "pygments_lexer": "ipython3",
   "version": "3.10.9"
  }
 },
 "nbformat": 4,
 "nbformat_minor": 5
}
