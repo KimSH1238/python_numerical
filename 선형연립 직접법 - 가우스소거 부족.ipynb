{
 "cells": [
  {
   "cell_type": "markdown",
   "id": "1fc5381a",
   "metadata": {},
   "source": [
    "동일한 행렬 사용"
   ]
  },
  {
   "cell_type": "code",
   "execution_count": 1,
   "id": "cb9c5382",
   "metadata": {},
   "outputs": [],
   "source": [
    "import numpy as np\n",
    "\n",
    "A=np.array([[2.,-1],\n",
    "            [-1,1]])\n",
    "b=np.array([1.,1])"
   ]
  },
  {
   "cell_type": "markdown",
   "id": "d5f0b1ce",
   "metadata": {},
   "source": [
    "#### 역행렬법.\n",
    "\n",
    "복잡한 행렬 연산은 사용하지 않고 라이브러리를 이용한다"
   ]
  },
  {
   "cell_type": "code",
   "execution_count": 14,
   "id": "c55a3cb0",
   "metadata": {},
   "outputs": [
    {
     "name": "stdout",
     "output_type": "stream",
     "text": [
      "[2. 3.]\n"
     ]
    }
   ],
   "source": [
    "import numpy as np\n",
    "\n",
    "invA=np.linalg.inv(A)\n",
    "x=invA@np.transpose(b)\n",
    "np.set_printoptions(precision=3)\n",
    "print(x)"
   ]
  },
  {
   "cell_type": "markdown",
   "id": "0b57076f",
   "metadata": {},
   "source": [
    "행벡터는 표현이 되지 않는다.\n",
    "\n",
    "## LU 분해"
   ]
  },
  {
   "cell_type": "code",
   "execution_count": 13,
   "id": "0100a0ab",
   "metadata": {},
   "outputs": [
    {
     "name": "stdout",
     "output_type": "stream",
     "text": [
      "[2. 3.]\n"
     ]
    }
   ],
   "source": [
    "import numpy as np\n",
    "import scipy as sp\n",
    "\n",
    "P, L, U = sp.linalg.lu(A)\n",
    "invL=np.linalg.inv(L)\n",
    "invU=np.linalg.inv(U)\n",
    "\n",
    "x=invU@(invL@b)\n",
    "np.set_printoptions(precision=2)\n",
    "print(x)"
   ]
  },
  {
   "cell_type": "markdown",
   "id": "428552df",
   "metadata": {},
   "source": [
    "## Cholesky 분해"
   ]
  },
  {
   "cell_type": "code",
   "execution_count": 15,
   "id": "a465d37d",
   "metadata": {},
   "outputs": [
    {
     "name": "stdout",
     "output_type": "stream",
     "text": [
      "[2. 3.]\n"
     ]
    }
   ],
   "source": [
    "import numpy as np\n",
    "import scipy as sp\n",
    "\n",
    "L=sp.linalg.cholesky(A, lower=True)\n",
    "LT=np.transpose(L)\n",
    "invLT=np.linalg.inv(LT)\n",
    "invL=np.linalg.inv(L)\n",
    "\n",
    "x=invLT@(invL@b)\n",
    "np.set_printoptions(precision=2)\n",
    "print(x)"
   ]
  },
  {
   "cell_type": "code",
   "execution_count": null,
   "id": "2e016a3d",
   "metadata": {},
   "outputs": [],
   "source": []
  }
 ],
 "metadata": {
  "kernelspec": {
   "display_name": "Python 3 (ipykernel)",
   "language": "python",
   "name": "python3"
  },
  "language_info": {
   "codemirror_mode": {
    "name": "ipython",
    "version": 3
   },
   "file_extension": ".py",
   "mimetype": "text/x-python",
   "name": "python",
   "nbconvert_exporter": "python",
   "pygments_lexer": "ipython3",
   "version": "3.10.9"
  }
 },
 "nbformat": 4,
 "nbformat_minor": 5
}
