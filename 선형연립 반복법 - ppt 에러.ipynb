{
 "cells": [
  {
   "cell_type": "code",
   "execution_count": 1,
   "id": "08c9fcf4",
   "metadata": {},
   "outputs": [],
   "source": [
    "import numpy as np\n",
    "\n",
    "A=np.array([[2,1,0],\n",
    "            [1,4,-1],\n",
    "            [0,-1,7]])\n",
    "b=np.array([4,6,19])"
   ]
  },
  {
   "cell_type": "markdown",
   "id": "8639ae52",
   "metadata": {},
   "source": [
    "## Jacobi"
   ]
  },
  {
   "cell_type": "code",
   "execution_count": 8,
   "id": "f65ea50f",
   "metadata": {},
   "outputs": [],
   "source": [
    "import numpy as np\n",
    "\n",
    "def jacobi(A,b,tol=1e-5,maxN=20):\n",
    "    x=np.zeros_like(b, dtype=np.double)\n",
    "    #float type을 double로 변경\n",
    "    \n",
    "    T=A-np.diag(np.diagonal(A))\n",
    "    #왜 함수를 다른것을 쓰는지는 조사할 부분\n",
    "    \n",
    "    for k in range(maxN):\n",
    "        xo=x.copy()\n",
    "        x=(b-np.dot(T,x))/np.diagonal(A)\n",
    "        \n",
    "        criteria=np.linalg.norm(x-xo, ord=np.inf)/np.linalg.norm(x, ord=np.inf)\n",
    "        #오차에 세부사항만 변경한 부분\n",
    "        \n",
    "        if abs(criteria)<tol:\n",
    "            break\n",
    "    return x"
   ]
  },
  {
   "cell_type": "code",
   "execution_count": 7,
   "id": "d2005879",
   "metadata": {},
   "outputs": [
    {
     "data": {
      "text/plain": [
       "array([1., 2., 3.])"
      ]
     },
     "execution_count": 7,
     "metadata": {},
     "output_type": "execute_result"
    }
   ],
   "source": [
    "jacobi(A,b)"
   ]
  },
  {
   "cell_type": "markdown",
   "id": "438e731b",
   "metadata": {},
   "source": [
    "값에 소수점 라운드를 넣은것 같다.\n",
    "\n",
    "## Gauss-seidel"
   ]
  },
  {
   "cell_type": "code",
   "execution_count": 10,
   "id": "68205cb6",
   "metadata": {},
   "outputs": [],
   "source": [
    "import numpy as np\n",
    "\n",
    "def gauss_seidel(A,b,tol=1e-5,maxN=20):\n",
    "    x=np.zeros_like(b, dtype=np.double)\n",
    "    #double 타입이 넘파이에 따로 있는 것으로 보인다.\n",
    "    \n",
    "    for _ in range(maxN):\n",
    "        xnew=np.copy(x)\n",
    "    \n",
    "        for i in range(A.shape[0]):\n",
    "            s1=np.dot(A[i, :i], xnew[:i])\n",
    "            s2=np.dot(A[i, i+i:], x[i+1:])\n",
    "            xnew[i]=(b[i]-s1-s2)/A[i, i]\n",
    "            #:i인덱스에 대해서 조사할 필요가 있다.\n",
    "            \n",
    "            criteria=np.linalg.norm(xnew-x, ord=np.inf)/np.linalg.norm(x, ord=np.inf)\n",
    "            \n",
    "            if abs(criteria)<tol:\n",
    "                return xnew\n",
    "    x=xnew\n",
    "    return x        "
   ]
  },
  {
   "cell_type": "code",
   "execution_count": 11,
   "id": "1c7f8f65",
   "metadata": {},
   "outputs": [
    {
     "ename": "ValueError",
     "evalue": "shapes (3,) and (2,) not aligned: 3 (dim 0) != 2 (dim 0)",
     "output_type": "error",
     "traceback": [
      "\u001b[1;31m---------------------------------------------------------------------------\u001b[0m",
      "\u001b[1;31mValueError\u001b[0m                                Traceback (most recent call last)",
      "Cell \u001b[1;32mIn[11], line 1\u001b[0m\n\u001b[1;32m----> 1\u001b[0m \u001b[43mgauss_seidel\u001b[49m\u001b[43m(\u001b[49m\u001b[43mA\u001b[49m\u001b[43m,\u001b[49m\u001b[43mb\u001b[49m\u001b[43m)\u001b[49m\n",
      "Cell \u001b[1;32mIn[10], line 12\u001b[0m, in \u001b[0;36mgauss_seidel\u001b[1;34m(A, b, tol, maxN)\u001b[0m\n\u001b[0;32m     10\u001b[0m \u001b[38;5;28;01mfor\u001b[39;00m i \u001b[38;5;129;01min\u001b[39;00m \u001b[38;5;28mrange\u001b[39m(A\u001b[38;5;241m.\u001b[39mshape[\u001b[38;5;241m0\u001b[39m]):\n\u001b[0;32m     11\u001b[0m     s1\u001b[38;5;241m=\u001b[39mnp\u001b[38;5;241m.\u001b[39mdot(A[i, :i], xnew[:i])\n\u001b[1;32m---> 12\u001b[0m     s2\u001b[38;5;241m=\u001b[39m\u001b[43mnp\u001b[49m\u001b[38;5;241;43m.\u001b[39;49m\u001b[43mdot\u001b[49m\u001b[43m(\u001b[49m\u001b[43mA\u001b[49m\u001b[43m[\u001b[49m\u001b[43mi\u001b[49m\u001b[43m,\u001b[49m\u001b[43m \u001b[49m\u001b[43mi\u001b[49m\u001b[38;5;241;43m+\u001b[39;49m\u001b[43mi\u001b[49m\u001b[43m:\u001b[49m\u001b[43m]\u001b[49m\u001b[43m,\u001b[49m\u001b[43m \u001b[49m\u001b[43mx\u001b[49m\u001b[43m[\u001b[49m\u001b[43mi\u001b[49m\u001b[38;5;241;43m+\u001b[39;49m\u001b[38;5;241;43m1\u001b[39;49m\u001b[43m:\u001b[49m\u001b[43m]\u001b[49m\u001b[43m)\u001b[49m\n\u001b[0;32m     13\u001b[0m     xnew[i]\u001b[38;5;241m=\u001b[39m(b[i]\u001b[38;5;241m-\u001b[39ms1\u001b[38;5;241m-\u001b[39ms2)\u001b[38;5;241m/\u001b[39mA[i, i]\n\u001b[0;32m     14\u001b[0m     \u001b[38;5;66;03m#:i인덱스에 대해서 조사할 필요가 있다.\u001b[39;00m\n",
      "File \u001b[1;32m<__array_function__ internals>:180\u001b[0m, in \u001b[0;36mdot\u001b[1;34m(*args, **kwargs)\u001b[0m\n",
      "\u001b[1;31mValueError\u001b[0m: shapes (3,) and (2,) not aligned: 3 (dim 0) != 2 (dim 0)"
     ]
    }
   ],
   "source": [
    "gauss_seidel(A,b)"
   ]
  },
  {
   "cell_type": "markdown",
   "id": "a71a1ef8",
   "metadata": {},
   "source": [
    "에러가 났지만 이해할 수 없어서 고칠 수가 없다.\n",
    "\n",
    "또한 그래프 그리는 것도 함수에 추가시키던가 혹은 배열을 추가로 결과로 도출하던가 해야하는데 이 역시 하지 못하였다. for문 돌리기 전에 배열도출 하는 것도 적절할 것 같다. 가우스세이델 방법은 초기값을 하나를 0으로 잡아야 적절할 것이다."
   ]
  },
  {
   "cell_type": "code",
   "execution_count": null,
   "id": "dbb26a43",
   "metadata": {},
   "outputs": [],
   "source": []
  }
 ],
 "metadata": {
  "kernelspec": {
   "display_name": "Python 3 (ipykernel)",
   "language": "python",
   "name": "python3"
  },
  "language_info": {
   "codemirror_mode": {
    "name": "ipython",
    "version": 3
   },
   "file_extension": ".py",
   "mimetype": "text/x-python",
   "name": "python",
   "nbconvert_exporter": "python",
   "pygments_lexer": "ipython3",
   "version": "3.10.9"
  }
 },
 "nbformat": 4,
 "nbformat_minor": 5
}
