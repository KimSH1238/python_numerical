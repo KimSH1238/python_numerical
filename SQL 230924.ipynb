{
 "cells": [
  {
   "cell_type": "markdown",
   "id": "cc1e6250",
   "metadata": {},
   "source": [
    "### 230924\n",
    "\n",
    "데이터베이스를 실제 사례에 적용한다면, 가령 예를 들어 자동차대리점에 디비를 깐다고 하자.\n",
    "\n",
    "먼저 자동차의 모델, 수량 등등의 것들을 개념적으로 모델링 해야 하고, 판매직원에 대해 고객에 대해도 다 모델링을 해야 한다. 개념적 모델링이 끝난 이후에는 논리적 모델링을 해야하는데,\n",
    "\n",
    "논리적 모델링은, 자동차 테이블 내의 자동차의 모델이 고객 테이블 내에 주문 자동차 모델과 어떤 관계가 있는지 정리해야 하고, 이런 식으로 각각 테이블 내의 조건에 대해 논리적 모델링을 세워야 한다. 이를 계속 하다보면 1대N관계 1대1관계 다대다 관계 등의 부분이 생긴다. 이러면서 PK FK 등의 것들을 하게 된다.\n",
    "\n",
    "데이터 부분 앞부분은 시간이 지나면서 잊어먹어서 좀 더 정리한 다음에 하도록 하겠습니다."
   ]
  },
  {
   "cell_type": "markdown",
   "id": "6cd9ae9d",
   "metadata": {},
   "source": [
    "파이썬과 머신러닝 부분을 SQL로 연동할 수가 있다.\n",
    "\n",
    "보통 SQL 문을 짜는 사람이 있고 쓰는 사람이 있는데, 쓰는 사람이 쓸 때 틀리지 않도록 데이터 무결성을 유지해야 한다. 머신러닝은 분류와 회귀를 할 때 아주 많은 다양한 데이터를 분류하고 회귀하는 알고리즘이므로 데이터를 많이 다뤄야 하는데 그 때 SQL 문이 중요하다."
   ]
  },
  {
   "cell_type": "markdown",
   "id": "7ed75c40",
   "metadata": {},
   "source": [
    "select insert update delete create alter 등의 비교적 전반기에 나오는 문법을 연습한다. 본인은 아주대학교 기업지원센터에서 잠시 연습을 한 적이 있는데, 비교적 기초적이어서 초반기에 다루는 문법들을 연습한다.\n",
    "\n",
    "데이터 정의어 조작어 제어어가 있는데 정의어는 디비를 설계할 때 조작어는 뽑아서 작업할 때 많이 사용한다."
   ]
  },
  {
   "cell_type": "code",
   "execution_count": null,
   "id": "816fd4ef",
   "metadata": {},
   "outputs": [],
   "source": []
  }
 ],
 "metadata": {
  "kernelspec": {
   "display_name": "Python 3 (ipykernel)",
   "language": "python",
   "name": "python3"
  },
  "language_info": {
   "codemirror_mode": {
    "name": "ipython",
    "version": 3
   },
   "file_extension": ".py",
   "mimetype": "text/x-python",
   "name": "python",
   "nbconvert_exporter": "python",
   "pygments_lexer": "ipython3",
   "version": "3.10.9"
  }
 },
 "nbformat": 4,
 "nbformat_minor": 5
}
