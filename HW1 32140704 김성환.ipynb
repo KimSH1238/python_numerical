{
 "cells": [
  {
   "cell_type": "code",
   "execution_count": 31,
   "id": "0f243384",
   "metadata": {},
   "outputs": [
    {
     "name": "stdout",
     "output_type": "stream",
     "text": [
      "공학수치해석 HW1 (32140704 김성환) 입니다\n",
      "\n",
      "\n",
      "1강\n"
     ]
    }
   ],
   "source": [
    "print('공학수치해석 HW1 (32140704 김성환) 입니다')\n",
    "\n",
    "print('\\n\\n1강')"
   ]
  },
  {
   "cell_type": "code",
   "execution_count": 55,
   "id": "0c539b9b",
   "metadata": {},
   "outputs": [],
   "source": [
    "#인터넷 수업 두가지를 모두 수강하였으나, 수강 처리가 되지 않았습니다.\n",
    "\n",
    "#이메일로 스크린샷을 찍어 올려두었습니다. 수업 처리를 하고 싶습니다"
   ]
  },
  {
   "cell_type": "markdown",
   "id": "0efde22d",
   "metadata": {},
   "source": [
    "저는 고시원 인터넷이 끊길때가 가끔 있어 쥬피터 노트북으로 하겠습니다"
   ]
  },
  {
   "cell_type": "markdown",
   "id": "3a5a3482",
   "metadata": {},
   "source": [
    "x\n",
    "X\n",
    "group\n",
    "GROUP\n",
    "\n",
    "1 camel\n",
    "2 snake\n",
    "\n",
    "저는 뱀 형식이 편해 앞으로 뱀 형식으로 시도하겠습니다.\n",
    "\n",
    "sky walker\n",
    "skyWalker\n",
    "\n",
    "쥬피터는 기본 변수명 수정이 되지 않습니다.\n",
    "\n",
    "SkyWalker\n",
    "returnOfJedi\n",
    "sky_walker\n",
    "\n",
    "과거에는 실패했지만, 저는 라이브러리를 잘 이해하는것도 필요하다고 하여, 될 수 있으면 앞으로 Matplotlib와 bokeh를 섞어 하도록 노력하겠습니다.\n",
    "\n",
    "sky_Walker\n",
    "\n",
    "출력은 HTML 파일로 출력해서 제출하도록 하겠습니다.\n",
    "\n",
    "G=9.806\n",
    "\n",
    "PLANK_NUMBER=6.626*10^-34\n",
    "\n",
    "AVOGADRO_NUMBER=6.022*10^23"
   ]
  },
  {
   "cell_type": "code",
   "execution_count": 8,
   "id": "8193443f",
   "metadata": {},
   "outputs": [
    {
     "name": "stdout",
     "output_type": "stream",
     "text": [
      "3.14\n",
      "1\n",
      "\n",
      "k의 변수, x의 변수 :\n",
      "<class 'int'> <class 'float'>\n"
     ]
    }
   ],
   "source": [
    "k=1\n",
    "x=3.14\n",
    "\n",
    "print(x)\n",
    "print(k)\n",
    "\n",
    "print('\\nk의 변수, x의 변수 :')\n",
    "print(type(k), type(x))"
   ]
  },
  {
   "cell_type": "code",
   "execution_count": 10,
   "id": "1a2bd455",
   "metadata": {},
   "outputs": [
    {
     "name": "stdout",
     "output_type": "stream",
     "text": [
      "z = 4.140000000000001\n",
      "\n",
      "z의 타입 :  <class 'float'>\n"
     ]
    }
   ],
   "source": [
    "z=k+x\n",
    "print('z =',z)\n",
    "print('\\nz의 타입 : ',type(z))"
   ]
  },
  {
   "cell_type": "markdown",
   "id": "990751d8",
   "metadata": {},
   "source": [
    "파이썬은 데이터 타입을 스스로 맞춰주는 기능이 있다"
   ]
  },
  {
   "cell_type": "code",
   "execution_count": 11,
   "id": "fa6e8feb",
   "metadata": {},
   "outputs": [
    {
     "name": "stdout",
     "output_type": "stream",
     "text": [
      "z = : 0.3184713375796178\n"
     ]
    }
   ],
   "source": [
    "z=k/x\n",
    "print('z = :',z)\n",
    "y=0"
   ]
  },
  {
   "cell_type": "code",
   "execution_count": 12,
   "id": "8a20e10e",
   "metadata": {},
   "outputs": [
    {
     "ename": "ZeroDivisionError",
     "evalue": "division by zero",
     "output_type": "error",
     "traceback": [
      "\u001b[1;31m---------------------------------------------------------------------------\u001b[0m",
      "\u001b[1;31mZeroDivisionError\u001b[0m                         Traceback (most recent call last)",
      "Cell \u001b[1;32mIn[12], line 1\u001b[0m\n\u001b[1;32m----> 1\u001b[0m z2\u001b[38;5;241m=\u001b[39m\u001b[43mk\u001b[49m\u001b[38;5;241;43m/\u001b[39;49m\u001b[43my\u001b[49m\n\u001b[0;32m      2\u001b[0m \u001b[38;5;28mprint\u001b[39m(\u001b[38;5;124m'\u001b[39m\u001b[38;5;124mz = :\u001b[39m\u001b[38;5;124m'\u001b[39m,z2)\n",
      "\u001b[1;31mZeroDivisionError\u001b[0m: division by zero"
     ]
    }
   ],
   "source": [
    "z2=k/y\n",
    "print('z = :',z2)"
   ]
  },
  {
   "cell_type": "code",
   "execution_count": 17,
   "id": "27da1995",
   "metadata": {},
   "outputs": [
    {
     "name": "stdout",
     "output_type": "stream",
     "text": [
      "z = : 3.14\n",
      "\n",
      "You\n",
      "Python is fun\n",
      "\n",
      "2**3 : 8\n"
     ]
    }
   ],
   "source": [
    "z=k*x\n",
    "print('z = :',z)\n",
    "\n",
    "u='\\nYou'\n",
    "print(u)\n",
    "s='Python is fun'\n",
    "print(s)\n",
    "\n",
    "z=2**3\n",
    "#파이썬에서는 ^ 대신 ** 사용\n",
    "print('\\n2**3 :',z)"
   ]
  },
  {
   "cell_type": "markdown",
   "id": "f92de57e",
   "metadata": {},
   "source": [
    "파이썬에서 라이브러리 호출하기\n",
    "\n",
    "$ pip install numpy\n",
    "\n",
    "import numpy as np"
   ]
  },
  {
   "cell_type": "code",
   "execution_count": 18,
   "id": "0ce626fa",
   "metadata": {},
   "outputs": [
    {
     "name": "stdout",
     "output_type": "stream",
     "text": [
      "Help on class list in module builtins:\n",
      "\n",
      "class list(object)\n",
      " |  list(iterable=(), /)\n",
      " |  \n",
      " |  Built-in mutable sequence.\n",
      " |  \n",
      " |  If no argument is given, the constructor creates a new empty list.\n",
      " |  The argument must be an iterable if specified.\n",
      " |  \n",
      " |  Methods defined here:\n",
      " |  \n",
      " |  __add__(self, value, /)\n",
      " |      Return self+value.\n",
      " |  \n",
      " |  __contains__(self, key, /)\n",
      " |      Return key in self.\n",
      " |  \n",
      " |  __delitem__(self, key, /)\n",
      " |      Delete self[key].\n",
      " |  \n",
      " |  __eq__(self, value, /)\n",
      " |      Return self==value.\n",
      " |  \n",
      " |  __ge__(self, value, /)\n",
      " |      Return self>=value.\n",
      " |  \n",
      " |  __getattribute__(self, name, /)\n",
      " |      Return getattr(self, name).\n",
      " |  \n",
      " |  __getitem__(...)\n",
      " |      x.__getitem__(y) <==> x[y]\n",
      " |  \n",
      " |  __gt__(self, value, /)\n",
      " |      Return self>value.\n",
      " |  \n",
      " |  __iadd__(self, value, /)\n",
      " |      Implement self+=value.\n",
      " |  \n",
      " |  __imul__(self, value, /)\n",
      " |      Implement self*=value.\n",
      " |  \n",
      " |  __init__(self, /, *args, **kwargs)\n",
      " |      Initialize self.  See help(type(self)) for accurate signature.\n",
      " |  \n",
      " |  __iter__(self, /)\n",
      " |      Implement iter(self).\n",
      " |  \n",
      " |  __le__(self, value, /)\n",
      " |      Return self<=value.\n",
      " |  \n",
      " |  __len__(self, /)\n",
      " |      Return len(self).\n",
      " |  \n",
      " |  __lt__(self, value, /)\n",
      " |      Return self<value.\n",
      " |  \n",
      " |  __mul__(self, value, /)\n",
      " |      Return self*value.\n",
      " |  \n",
      " |  __ne__(self, value, /)\n",
      " |      Return self!=value.\n",
      " |  \n",
      " |  __repr__(self, /)\n",
      " |      Return repr(self).\n",
      " |  \n",
      " |  __reversed__(self, /)\n",
      " |      Return a reverse iterator over the list.\n",
      " |  \n",
      " |  __rmul__(self, value, /)\n",
      " |      Return value*self.\n",
      " |  \n",
      " |  __setitem__(self, key, value, /)\n",
      " |      Set self[key] to value.\n",
      " |  \n",
      " |  __sizeof__(self, /)\n",
      " |      Return the size of the list in memory, in bytes.\n",
      " |  \n",
      " |  append(self, object, /)\n",
      " |      Append object to the end of the list.\n",
      " |  \n",
      " |  clear(self, /)\n",
      " |      Remove all items from list.\n",
      " |  \n",
      " |  copy(self, /)\n",
      " |      Return a shallow copy of the list.\n",
      " |  \n",
      " |  count(self, value, /)\n",
      " |      Return number of occurrences of value.\n",
      " |  \n",
      " |  extend(self, iterable, /)\n",
      " |      Extend list by appending elements from the iterable.\n",
      " |  \n",
      " |  index(self, value, start=0, stop=9223372036854775807, /)\n",
      " |      Return first index of value.\n",
      " |      \n",
      " |      Raises ValueError if the value is not present.\n",
      " |  \n",
      " |  insert(self, index, object, /)\n",
      " |      Insert object before index.\n",
      " |  \n",
      " |  pop(self, index=-1, /)\n",
      " |      Remove and return item at index (default last).\n",
      " |      \n",
      " |      Raises IndexError if list is empty or index is out of range.\n",
      " |  \n",
      " |  remove(self, value, /)\n",
      " |      Remove first occurrence of value.\n",
      " |      \n",
      " |      Raises ValueError if the value is not present.\n",
      " |  \n",
      " |  reverse(self, /)\n",
      " |      Reverse *IN PLACE*.\n",
      " |  \n",
      " |  sort(self, /, *, key=None, reverse=False)\n",
      " |      Sort the list in ascending order and return None.\n",
      " |      \n",
      " |      The sort is in-place (i.e. the list itself is modified) and stable (i.e. the\n",
      " |      order of two equal elements is maintained).\n",
      " |      \n",
      " |      If a key function is given, apply it once to each list item and sort them,\n",
      " |      ascending or descending, according to their function values.\n",
      " |      \n",
      " |      The reverse flag can be set to sort in descending order.\n",
      " |  \n",
      " |  ----------------------------------------------------------------------\n",
      " |  Class methods defined here:\n",
      " |  \n",
      " |  __class_getitem__(...) from builtins.type\n",
      " |      See PEP 585\n",
      " |  \n",
      " |  ----------------------------------------------------------------------\n",
      " |  Static methods defined here:\n",
      " |  \n",
      " |  __new__(*args, **kwargs) from builtins.type\n",
      " |      Create and return a new object.  See help(type) for accurate signature.\n",
      " |  \n",
      " |  ----------------------------------------------------------------------\n",
      " |  Data and other attributes defined here:\n",
      " |  \n",
      " |  __hash__ = None\n",
      "\n"
     ]
    }
   ],
   "source": [
    "help(list)"
   ]
  },
  {
   "cell_type": "code",
   "execution_count": 29,
   "id": "7185e8be",
   "metadata": {},
   "outputs": [
    {
     "name": "stdout",
     "output_type": "stream",
     "text": [
      "[]\n",
      "\n",
      "\n",
      "list : ['Iron Man']\n",
      "list : ['Iron Man', 'Black Widow']\n",
      "list : ['Iron Man', 'Black Widow', 'Captine America']\n"
     ]
    }
   ],
   "source": [
    "hero =[]\n",
    "print(hero)\n",
    "\n",
    "hero=['Iron Man']\n",
    "print('\\n\\nlist :',hero)\n",
    "hero=['Iron Man','Black Widow']\n",
    "print('list :',hero)\n",
    "# list는 \\n이 필요하지 않다.\n",
    "hero=['Iron Man','Black Widow','Captine America']\n",
    "print('list :',hero)"
   ]
  },
  {
   "cell_type": "code",
   "execution_count": 32,
   "id": "3c4fe8fa",
   "metadata": {},
   "outputs": [
    {
     "name": "stdout",
     "output_type": "stream",
     "text": [
      "2강\n"
     ]
    }
   ],
   "source": [
    "print('2강')"
   ]
  },
  {
   "cell_type": "markdown",
   "id": "dc8df364",
   "metadata": {},
   "source": [
    "알고리즘 배우는 수치해석"
   ]
  },
  {
   "cell_type": "code",
   "execution_count": 38,
   "id": "502a8519",
   "metadata": {},
   "outputs": [
    {
     "name": "stdout",
     "output_type": "stream",
     "text": [
      "list : ['python', 21, 'Bob']\n",
      "\n",
      " 21\n",
      "\n",
      " ['python', 25, 'Bob']\n"
     ]
    }
   ],
   "source": [
    "mylist=[]\n",
    "# 일단 비우고 시작\n",
    "\n",
    "mylist=['python',21,'Bob']\n",
    "print('list :',mylist)\n",
    "\n",
    "print('\\n',mylist[1])\n",
    "\n",
    "mylist[1]=25\n",
    "print('\\n',mylist)\n"
   ]
  },
  {
   "cell_type": "code",
   "execution_count": 45,
   "id": "caa396e8",
   "metadata": {},
   "outputs": [
    {
     "name": "stdout",
     "output_type": "stream",
     "text": [
      "0\n",
      "1\n",
      "2\n",
      "3\n",
      "4\n",
      "\n",
      "\n",
      "1\n",
      "2\n",
      "3\n",
      "4\n",
      "\n",
      "\n",
      "1\n",
      "2\n",
      "3\n",
      "4\n",
      "\n",
      "\n",
      "1\n",
      "3\n",
      "5\n",
      "7\n",
      "9\n"
     ]
    }
   ],
   "source": [
    "#반복문\n",
    "for i in range(5):\n",
    "    print(i)\n",
    "    \n",
    "print('\\n')\n",
    "for i in range(1,5):\n",
    "    print(i)\n",
    "    \n",
    "#다른방법\n",
    "print('\\n')\n",
    "for i in range(4):\n",
    "    print(i+1)\n",
    "#range는 하나의 리스트이다\n",
    "\n",
    "print('\\n')\n",
    "for i in range(1,10,2):\n",
    "    print(i)"
   ]
  },
  {
   "cell_type": "code",
   "execution_count": 48,
   "id": "3509c494",
   "metadata": {},
   "outputs": [
    {
     "name": "stdout",
     "output_type": "stream",
     "text": [
      "4\n",
      "3\n",
      "2\n",
      "1\n",
      "0\n",
      "\n",
      "\n",
      "0.4\n",
      "0.30000000000000004\n",
      "0.2\n",
      "0.1\n",
      "0.0\n"
     ]
    }
   ],
   "source": [
    "x=[4,3,2,1,0]\n",
    "for i in range(len(x)):\n",
    "    print(x[i])\n",
    "#len함수를 쓰는게 길이를 잘 모를때 작성하기 좋다\n",
    "\n",
    "print('\\n')\n",
    "for i in range(5):\n",
    "    ans=0.1*x[i]\n",
    "    print(ans)\n",
    "#함수와 print를 분류하는게 코딩하기도 알아보기도 편하다."
   ]
  },
  {
   "cell_type": "code",
   "execution_count": 51,
   "id": "dbd08236",
   "metadata": {},
   "outputs": [
    {
     "name": "stdout",
     "output_type": "stream",
     "text": [
      "0 X 0 : 0\n",
      "0 X 1 : 0\n",
      "0 X 2 : 0\n",
      "1 X 0 : 0\n",
      "1 X 1 : 1\n",
      "1 X 2 : 2\n"
     ]
    }
   ],
   "source": [
    "for i in range(2):\n",
    "    for j in range(3):\n",
    "        print(i,'X',j,':',i*j)"
   ]
  },
  {
   "cell_type": "code",
   "execution_count": 53,
   "id": "e02a8772",
   "metadata": {},
   "outputs": [
    {
     "name": "stdout",
     "output_type": "stream",
     "text": [
      "번호 : 1 점수 : 100 학점 : A\n",
      "번호 : 2 점수 : 90 학점 : A\n",
      "번호 : 3 점수 : 30 학점 : B\n",
      "번호 : 4 점수 : 70 학점 : B\n",
      "번호 : 5 점수 : 80 학점 : B\n"
     ]
    }
   ],
   "source": [
    "#조건문\n",
    "score_criteria=90\n",
    "score=[100,90,30,70,80]\n",
    "for i in range(len(score)):\n",
    "    if score[i]>=score_criteria :\n",
    "        print('번호 :',i+1,'점수 :',score[i],'학점 : A')\n",
    "    else :\n",
    "        print('번호 :',i+1,'점수 :',score[i],'학점 : B')       "
   ]
  },
  {
   "cell_type": "code",
   "execution_count": 56,
   "id": "d065b2ed",
   "metadata": {},
   "outputs": [
    {
     "name": "stderr",
     "output_type": "stream",
     "text": [
      "Matplotlib is building the font cache; this may take a moment.\n"
     ]
    }
   ],
   "source": [
    "import numpy as np\n",
    "import scipy as scp\n",
    "import matplotlib.pyplot as mpl\n",
    "# 고정으로 사용"
   ]
  },
  {
   "cell_type": "markdown",
   "id": "b564d974",
   "metadata": {},
   "source": [
    "numpy : https://numpy.org/\n",
    "\n",
    "bokeh : https://docs.bokeh.org/en/latest/index.html\n",
    "\n",
    "matplotlib : https://matplotlib.org/\n",
    "\n",
    "seaborn : https://seaborn.pydata.org/"
   ]
  },
  {
   "cell_type": "code",
   "execution_count": null,
   "id": "41c1370c",
   "metadata": {},
   "outputs": [],
   "source": []
  }
 ],
 "metadata": {
  "kernelspec": {
   "display_name": "Python 3 (ipykernel)",
   "language": "python",
   "name": "python3"
  },
  "language_info": {
   "codemirror_mode": {
    "name": "ipython",
    "version": 3
   },
   "file_extension": ".py",
   "mimetype": "text/x-python",
   "name": "python",
   "nbconvert_exporter": "python",
   "pygments_lexer": "ipython3",
   "version": "3.10.9"
  }
 },
 "nbformat": 4,
 "nbformat_minor": 5
}
