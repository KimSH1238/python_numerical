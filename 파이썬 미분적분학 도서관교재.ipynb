{
 "cells": [
  {
   "cell_type": "code",
   "execution_count": 3,
   "id": "6bbc4876",
   "metadata": {},
   "outputs": [
    {
     "data": {
      "text/latex": [
       "$\\displaystyle - 0.377964473009227 e^{- 3.0 t} \\sin{\\left(2.64575131106459 t \\right)} - 1.0 e^{- 3.0 t} \\cos{\\left(2.64575131106459 t \\right)}$"
      ],
      "text/plain": [
       "-0.377964473009227*exp(-3.0*t)*sin(2.64575131106459*t) - 1.0*exp(-3.0*t)*cos(2.64575131106459*t)"
      ]
     },
     "execution_count": 3,
     "metadata": {},
     "output_type": "execute_result"
    }
   ],
   "source": [
    "import sympy as sp\n",
    "t=sp.symbols('t')\n",
    "\n",
    "eq=2*sp.exp(-3.*t)*sp.cos(7**0.5*t)+10/7**0.5*sp.exp(-3.*t)*sp.sin(7**0.5*t)\n",
    "iy=sp.integrate(eq,t)\n",
    "iy"
   ]
  },
  {
   "cell_type": "code",
   "execution_count": 6,
   "id": "aabff531",
   "metadata": {},
   "outputs": [
    {
     "data": {
      "text/latex": [
       "$\\displaystyle \\begin{cases} - \\frac{2 t \\cos{\\left(\\frac{\\pi n t}{2} \\right)}}{\\pi n} + \\frac{4 \\sin{\\left(\\frac{\\pi n t}{2} \\right)}}{\\pi^{2} n^{2}} & \\text{for}\\: n \\neq 0 \\\\0 & \\text{otherwise} \\end{cases}$"
      ],
      "text/plain": [
       "Piecewise((-2*t*cos(pi*n*t/2)/(pi*n) + 4*sin(pi*n*t/2)/(pi**2*n**2), Ne(n, 0)), (0, True))"
      ]
     },
     "execution_count": 6,
     "metadata": {},
     "output_type": "execute_result"
    }
   ],
   "source": [
    "import sympy as sp\n",
    "t=sp.symbols('t')\n",
    "n=sp.symbols('n')\n",
    "\n",
    "eq=t*sp.sin(2*sp.pi*n*t/4)\n",
    "iy=sp.integrate(eq,t)\n",
    "iy"
   ]
  },
  {
   "cell_type": "code",
   "execution_count": 8,
   "id": "2003add7",
   "metadata": {},
   "outputs": [
    {
     "data": {
      "text/latex": [
       "$\\displaystyle \\begin{cases} \\frac{2 t \\cos{\\left(\\frac{\\pi n t}{2} \\right)}}{\\pi n} - \\frac{4 \\cos{\\left(\\frac{\\pi n t}{2} \\right)}}{\\pi n} - \\frac{4 \\sin{\\left(\\frac{\\pi n t}{2} \\right)}}{\\pi^{2} n^{2}} & \\text{for}\\: n \\neq 0 \\\\0 & \\text{otherwise} \\end{cases}$"
      ],
      "text/plain": [
       "Piecewise((2*t*cos(pi*n*t/2)/(pi*n) - 4*cos(pi*n*t/2)/(pi*n) - 4*sin(pi*n*t/2)/(pi**2*n**2), Ne(n, 0)), (0, True))"
      ]
     },
     "execution_count": 8,
     "metadata": {},
     "output_type": "execute_result"
    }
   ],
   "source": [
    "import sympy as sp\n",
    "t=sp.symbols('t')\n",
    "n=sp.symbols('n')\n",
    "\n",
    "eq=(2-t)*sp.sin(2*sp.pi*n*t/4)\n",
    "iy=sp.integrate(eq,t)\n",
    "iy"
   ]
  },
  {
   "cell_type": "code",
   "execution_count": 2,
   "id": "9f81c83d",
   "metadata": {},
   "outputs": [
    {
     "data": {
      "text/latex": [
       "$\\displaystyle - 0.377964473009227 e^{- 3.0 t} \\sin{\\left(2.64575131106459 t \\right)} - 1.0 e^{- 3.0 t} \\cos{\\left(2.64575131106459 t \\right)}$"
      ],
      "text/plain": [
       "-0.377964473009227*exp(-3.0*t)*sin(2.64575131106459*t) - 1.0*exp(-3.0*t)*cos(2.64575131106459*t)"
      ]
     },
     "execution_count": 2,
     "metadata": {},
     "output_type": "execute_result"
    }
   ],
   "source": [
    "import sympy as sp\n",
    "t=sp.symbols('t')\n",
    "\n",
    "eq=2*sp.exp(-3.*t)*sp.cos(7**0.5*t)+10/7**0.5*sp.exp(-3.*t)*sp.sin(7**0.5*t)\n",
    "iy=sp.integrate(eq,t)\n",
    "iy"
   ]
  },
  {
   "cell_type": "code",
   "execution_count": null,
   "id": "837a66a9",
   "metadata": {},
   "outputs": [],
   "source": []
  }
 ],
 "metadata": {
  "kernelspec": {
   "display_name": "Python 3 (ipykernel)",
   "language": "python",
   "name": "python3"
  },
  "language_info": {
   "codemirror_mode": {
    "name": "ipython",
    "version": 3
   },
   "file_extension": ".py",
   "mimetype": "text/x-python",
   "name": "python",
   "nbconvert_exporter": "python",
   "pygments_lexer": "ipython3",
   "version": "3.10.9"
  }
 },
 "nbformat": 4,
 "nbformat_minor": 5
}
