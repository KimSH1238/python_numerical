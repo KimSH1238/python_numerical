{
 "cells": [
  {
   "cell_type": "markdown",
   "id": "8b4cae3d",
   "metadata": {},
   "source": [
    "# HW4 32140704 김성환"
   ]
  },
  {
   "cell_type": "code",
   "execution_count": 2,
   "id": "f6546f5e",
   "metadata": {},
   "outputs": [
    {
     "name": "stdout",
     "output_type": "stream",
     "text": [
      "56 97 35 12\n"
     ]
    }
   ],
   "source": [
    "import numpy as np\n",
    "\n",
    "A=np.array([[50, 6],\n",
    "            [90, 7],\n",
    "            [30, 5],\n",
    "            [10, 2]])\n",
    "a13=np.sum(A[0])\n",
    "a23=np.sum(A[1])\n",
    "a33=np.sum(A[2])\n",
    "a43=np.sum(A[3])\n",
    "\n",
    "print(a13, a23, a33, a43)"
   ]
  },
  {
   "cell_type": "code",
   "execution_count": 3,
   "id": "6136f7ad",
   "metadata": {},
   "outputs": [
    {
     "name": "stdout",
     "output_type": "stream",
     "text": [
      "210 20\n",
      "52.5 5.0\n",
      "52.5 5.0\n"
     ]
    }
   ],
   "source": [
    "import numpy as np\n",
    "\n",
    "A=np.array([[59, 6],\n",
    "            [98, 7],\n",
    "            [37, 5],\n",
    "            [16, 2]])\n",
    "b1, b2=np.sum(A, axis=0)\n",
    "print(b1, b2)\n",
    "c1, c2=np.average(A, axis=0)\n",
    "print(c1, c2)\n",
    "d1, d2=np.mean(A, axis=0)\n",
    "print(d1, d2)"
   ]
  },
  {
   "cell_type": "markdown",
   "id": "d543f690",
   "metadata": {},
   "source": [
    "mean의 함수값이 목적과 다르게 나오는 것을 알 수 있다.\n",
    "\n",
    "매트랩과는 다른 함수임을 직감할 수 있다."
   ]
  },
  {
   "cell_type": "code",
   "execution_count": 4,
   "id": "c3ad52b1",
   "metadata": {},
   "outputs": [
    {
     "name": "stdout",
     "output_type": "stream",
     "text": [
      "18 100\n",
      "4.5 25.0\n"
     ]
    }
   ],
   "source": [
    "import numpy as np\n",
    "\n",
    "A=np.array([[5, 26],\n",
    "            [9, 27],\n",
    "            [3, 25],\n",
    "            [1, 22]])\n",
    "b1=np.sum(A[:,0])\n",
    "b2=np.sum(A[:,1])\n",
    "print(b1,b2)\n",
    "c1=np.average(A[:,0])\n",
    "c2=np.average(A[:,1])\n",
    "print(c1, c2)"
   ]
  },
  {
   "cell_type": "code",
   "execution_count": 5,
   "id": "b508dbfa",
   "metadata": {},
   "outputs": [
    {
     "name": "stdout",
     "output_type": "stream",
     "text": [
      "41 46 38 33\n",
      "138 20\n",
      "34.5 5.0\n",
      "34.5 5.0\n"
     ]
    }
   ],
   "source": [
    "import numpy as np\n",
    "\n",
    "A=np.array([[35, 6],\n",
    "            [39, 7],\n",
    "            [33, 5],\n",
    "            [31, 2]])\n",
    "a13, a23, a33, a43=np.sum(A, axis=1)\n",
    "print(a13, a23, a33, a43)\n",
    "b1, b2=np.sum(A, axis=0)\n",
    "print(b1, b2)\n",
    "c1, c2=np.average(A, axis=0)\n",
    "print(c1, c2)\n",
    "d1, d2=np.mean(A, axis=0)\n",
    "print(d1, d2)"
   ]
  },
  {
   "cell_type": "code",
   "execution_count": 6,
   "id": "fb7e0ae2",
   "metadata": {},
   "outputs": [
    {
     "name": "stdout",
     "output_type": "stream",
     "text": [
      "101 106 98 93\n",
      "18 380\n",
      "4.5 95.0\n",
      "4.5 95.0\n"
     ]
    }
   ],
   "source": [
    "import numpy as np\n",
    "\n",
    "A=np.array([[5, 96],\n",
    "            [9, 97],\n",
    "            [3, 95],\n",
    "            [1, 92]])\n",
    "a13=np.sum(A[0])\n",
    "a23=np.sum(A[1])\n",
    "a33=np.sum(A[2])\n",
    "a43=np.sum(A[3])\n",
    "print(a13, a23, a33, a43)\n",
    "\n",
    "b1=np.sum(A[:,0])\n",
    "b2=np.sum(A[:,1])\n",
    "print(b1, b2)\n",
    "c1=np.average(A[:,0])\n",
    "c2=np.average(A[:,1])\n",
    "print(c1, c2)\n",
    "d1=np.mean(A[:,0])\n",
    "d2=np.mean(A[:,1])\n",
    "print(d1, d2)"
   ]
  },
  {
   "cell_type": "code",
   "execution_count": null,
   "id": "2b06a0c8",
   "metadata": {},
   "outputs": [],
   "source": []
  }
 ],
 "metadata": {
  "kernelspec": {
   "display_name": "Python 3 (ipykernel)",
   "language": "python",
   "name": "python3"
  },
  "language_info": {
   "codemirror_mode": {
    "name": "ipython",
    "version": 3
   },
   "file_extension": ".py",
   "mimetype": "text/x-python",
   "name": "python",
   "nbconvert_exporter": "python",
   "pygments_lexer": "ipython3",
   "version": "3.10.9"
  }
 },
 "nbformat": 4,
 "nbformat_minor": 5
}
