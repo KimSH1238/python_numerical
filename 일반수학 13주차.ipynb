{
 "cells": [
  {
   "cell_type": "markdown",
   "id": "47d759f2",
   "metadata": {},
   "source": [
    "## 14.1.3)"
   ]
  },
  {
   "cell_type": "code",
   "execution_count": 9,
   "id": "07ab01d9",
   "metadata": {},
   "outputs": [
    {
     "data": {
      "text/latex": [
       "$\\displaystyle \\begin{cases} - \\frac{y \\cos{\\left(x y \\right)}}{x} + \\frac{\\sin{\\left(x y \\right)}}{x^{2}} & \\text{for}\\: x \\neq 0 \\\\0 & \\text{otherwise} \\end{cases}$"
      ],
      "text/plain": [
       "Piecewise((-y*cos(x*y)/x + sin(x*y)/x**2, Ne(x, 0)), (0, True))"
      ]
     },
     "execution_count": 9,
     "metadata": {},
     "output_type": "execute_result"
    }
   ],
   "source": [
    "import sympy as sp\n",
    "y=sp.symbols('y')\n",
    "x=sp.symbols('x')\n",
    "\n",
    "eq=y*sp.sin(x*y)\n",
    "ieq=sp.integrate(eq,y)\n",
    "ieq"
   ]
  },
  {
   "cell_type": "code",
   "execution_count": 8,
   "id": "00899d32",
   "metadata": {},
   "outputs": [
    {
     "data": {
      "text/latex": [
       "$\\displaystyle - \\pi \\left(- \\log{\\left(x \\right)} + \\frac{\\log{\\left(x^{2} \\right)}}{2} + \\operatorname{Ci}{\\left(\\pi x \\right)}\\right) - \\pi \\log{\\left(x \\right)} + \\frac{\\pi \\log{\\left(x^{2} \\right)}}{2} + \\pi \\operatorname{Ci}{\\left(\\pi x \\right)} - \\frac{\\sin{\\left(\\pi x \\right)}}{x}$"
      ],
      "text/plain": [
       "-pi*(-log(x) + log(x**2)/2 + Ci(pi*x)) - pi*log(x) + pi*log(x**2)/2 + pi*Ci(pi*x) - sin(pi*x)/x"
      ]
     },
     "execution_count": 8,
     "metadata": {},
     "output_type": "execute_result"
    }
   ],
   "source": [
    "import sympy as sp\n",
    "x=sp.symbols('x')\n",
    "\n",
    "eq=-sp.pi*sp.cos(sp.pi*x)/x + sp.sin(sp.pi*x)/x**2\n",
    "ieq=sp.integrate(eq,x)\n",
    "ieq"
   ]
  },
  {
   "cell_type": "markdown",
   "id": "769265d7",
   "metadata": {},
   "source": [
    "## 14.1.6)"
   ]
  },
  {
   "cell_type": "code",
   "execution_count": 11,
   "id": "b1468e10",
   "metadata": {},
   "outputs": [
    {
     "data": {
      "text/latex": [
       "$\\displaystyle x \\left(\\begin{cases} - \\frac{x^{2} \\operatorname{acosh}{\\left(\\frac{y}{x} \\right)}}{2} - \\frac{x y}{2 \\sqrt{-1 + \\frac{y^{2}}{x^{2}}}} + \\frac{y^{3}}{2 x \\sqrt{-1 + \\frac{y^{2}}{x^{2}}}} & \\text{for}\\: \\left|{\\frac{y^{2}}{x^{2}}}\\right| > 1 \\\\\\frac{i x^{2} \\operatorname{asin}{\\left(\\frac{y}{x} \\right)}}{2} + \\frac{i x y \\sqrt{1 - \\frac{y^{2}}{x^{2}}}}{2} & \\text{otherwise} \\end{cases}\\right)$"
      ],
      "text/plain": [
       "x*Piecewise((-x**2*acosh(y/x)/2 - x*y/(2*sqrt(-1 + y**2/x**2)) + y**3/(2*x*sqrt(-1 + y**2/x**2)), Abs(y**2/x**2) > 1), (I*x**2*asin(y/x)/2 + I*x*y*sqrt(1 - y**2/x**2)/2, True))"
      ]
     },
     "execution_count": 11,
     "metadata": {},
     "output_type": "execute_result"
    }
   ],
   "source": [
    "import sympy as sp\n",
    "x=sp.symbols('x')\n",
    "y=sp.symbols('y')\n",
    "\n",
    "eq=x*sp.sqrt(y**2-x**2)\n",
    "ieq=sp.integrate(eq,y)\n",
    "ieq"
   ]
  },
  {
   "cell_type": "code",
   "execution_count": 14,
   "id": "29d0a62e",
   "metadata": {},
   "outputs": [
    {
     "data": {
      "text/latex": [
       "$\\displaystyle x \\left(- \\frac{x^{2} \\operatorname{acosh}{\\left(\\frac{1}{x} \\right)}}{2} - \\frac{x}{2 \\sqrt{-1 + \\frac{1}{x^{2}}}} + \\frac{1}{2 x \\sqrt{-1 + \\frac{1}{x^{2}}}}\\right)$"
      ],
      "text/plain": [
       "x*(-x**2*acosh(1/x)/2 - x/(2*sqrt(-1 + x**(-2))) + 1/(2*x*sqrt(-1 + x**(-2))))"
      ]
     },
     "execution_count": 14,
     "metadata": {},
     "output_type": "execute_result"
    }
   ],
   "source": [
    "import sympy as sp\n",
    "x=sp.symbols('x')\n",
    "y=1\n",
    "\n",
    "eq=x*(-x**2*sp.acosh(y/x)/2 - x*y/(2*sp.sqrt(y**2/x**2-1)) + y**3/(2*x*sp.sqrt(y**2/x**2-1)))\n",
    "eq"
   ]
  },
  {
   "cell_type": "code",
   "execution_count": 15,
   "id": "4bbdc340",
   "metadata": {},
   "outputs": [
    {
     "data": {
      "text/latex": [
       "$\\displaystyle x \\left(\\tilde{\\infty} x^{3} + \\tilde{\\infty} x^{2}\\right)$"
      ],
      "text/plain": [
       "x*(zoo*x**3 + zoo*x**2)"
      ]
     },
     "execution_count": 15,
     "metadata": {},
     "output_type": "execute_result"
    }
   ],
   "source": [
    "import sympy as sp\n",
    "x=sp.symbols('x')\n",
    "y=sp.symbols('x')\n",
    "\n",
    "eq=x*(-x**2*sp.acosh(y/x)/2 - x*y/(2*sp.sqrt(y**2/x**2-1)) + y**3/(2*x*sp.sqrt(y**2/x**2-1)))\n",
    "eq"
   ]
  },
  {
   "cell_type": "markdown",
   "id": "7879054c",
   "metadata": {},
   "source": [
    "zero division error"
   ]
  },
  {
   "cell_type": "code",
   "execution_count": 16,
   "id": "3eeb010f",
   "metadata": {},
   "outputs": [
    {
     "data": {
      "text/latex": [
       "$\\displaystyle \\frac{x^{2} \\sqrt{- x^{2} + y^{2}}}{3} - \\frac{y^{2} \\sqrt{- x^{2} + y^{2}}}{3}$"
      ],
      "text/plain": [
       "x**2*sqrt(-x**2 + y**2)/3 - y**2*sqrt(-x**2 + y**2)/3"
      ]
     },
     "execution_count": 16,
     "metadata": {},
     "output_type": "execute_result"
    }
   ],
   "source": [
    "import sympy as sp\n",
    "x=sp.symbols('x')\n",
    "y=sp.symbols('y')\n",
    "\n",
    "eq=x*sp.sqrt(y**2-x**2)\n",
    "ieq=sp.integrate(eq,x)\n",
    "ieq"
   ]
  },
  {
   "cell_type": "code",
   "execution_count": 18,
   "id": "3c61252b",
   "metadata": {},
   "outputs": [
    {
     "data": {
      "text/latex": [
       "$\\displaystyle - \\frac{y^{2} \\sqrt{y^{2}}}{3}$"
      ],
      "text/plain": [
       "-y**2*sqrt(y**2)/3"
      ]
     },
     "execution_count": 18,
     "metadata": {},
     "output_type": "execute_result"
    }
   ],
   "source": [
    "import sympy as sp\n",
    "x=0\n",
    "y=sp.symbols('y')\n",
    "\n",
    "eq=x**2/3*sp.sqrt(y**2-x**2) - y**2/3*sp.sqrt(y**2-x**2)\n",
    "eq"
   ]
  },
  {
   "cell_type": "markdown",
   "id": "17d6fdd6",
   "metadata": {},
   "source": [
    "이 부분에서 적분표와는 달리 sin-1 함수 안나오는 에러"
   ]
  },
  {
   "cell_type": "markdown",
   "id": "28d7c9f9",
   "metadata": {},
   "source": [
    "## 14.1.6)\n",
    "\n",
    "# 이 부분 메일에서 삭제\n",
    "\n",
    "답 먼저 우선 확인"
   ]
  },
  {
   "cell_type": "code",
   "execution_count": 19,
   "id": "f8a96f59",
   "metadata": {},
   "outputs": [
    {
     "data": {
      "text/latex": [
       "$\\displaystyle - \\frac{e^{- x^{2}}}{2}$"
      ],
      "text/plain": [
       "-exp(-x**2)/2"
      ]
     },
     "execution_count": 19,
     "metadata": {},
     "output_type": "execute_result"
    }
   ],
   "source": [
    "import sympy as sp\n",
    "x=sp.symbols('x')\n",
    "\n",
    "eq=x*sp.exp(-x**2)\n",
    "ieq=sp.integrate(eq, x)\n",
    "ieq"
   ]
  },
  {
   "cell_type": "code",
   "execution_count": 20,
   "id": "cdee74cc",
   "metadata": {},
   "outputs": [
    {
     "data": {
      "text/latex": [
       "$\\displaystyle \\frac{\\log{\\left(x + 1 \\right)}}{3} - \\frac{\\log{\\left(x^{2} - x + 1 \\right)}}{6} + \\frac{\\sqrt{3} \\operatorname{atan}{\\left(\\frac{2 \\sqrt{3} x}{3} - \\frac{\\sqrt{3}}{3} \\right)}}{3}$"
      ],
      "text/plain": [
       "log(x + 1)/3 - log(x**2 - x + 1)/6 + sqrt(3)*atan(2*sqrt(3)*x/3 - sqrt(3)/3)/3"
      ]
     },
     "execution_count": 20,
     "metadata": {},
     "output_type": "execute_result"
    }
   ],
   "source": [
    "import sympy as sp\n",
    "x=sp.symbols('x')\n",
    "\n",
    "eq=1/(x**3+1)\n",
    "ieq=sp.integrate(eq,x)\n",
    "ieq"
   ]
  },
  {
   "cell_type": "code",
   "execution_count": 22,
   "id": "ef10ae25",
   "metadata": {},
   "outputs": [
    {
     "data": {
      "text/latex": [
       "$\\displaystyle - \\frac{\\sqrt{3} \\pi}{18}$"
      ],
      "text/plain": [
       "-sqrt(3)*pi/18"
      ]
     },
     "execution_count": 22,
     "metadata": {},
     "output_type": "execute_result"
    }
   ],
   "source": [
    "import sympy as sp\n",
    "x=0\n",
    "\n",
    "eq=sp.log(x+1)/3 - sp.log(x**2-x+1)/6 + 1/sp.sqrt(3)*sp.atan((2*x-1)/sp.sqrt(3))\n",
    "eq"
   ]
  },
  {
   "cell_type": "code",
   "execution_count": 23,
   "id": "e03065ba",
   "metadata": {},
   "outputs": [
    {
     "data": {
      "text/latex": [
       "$\\displaystyle \\frac{\\log{\\left(y^{0.5} + 1 \\right)}}{3} - \\frac{\\log{\\left(- y^{0.5} + y^{1.0} + 1 \\right)}}{6} + \\frac{\\sqrt{3} \\operatorname{atan}{\\left(\\frac{\\sqrt{3} \\cdot \\left(2 y^{0.5} - 1\\right)}{3} \\right)}}{3}$"
      ],
      "text/plain": [
       "log(y**0.5 + 1)/3 - log(-y**0.5 + y**1.0 + 1)/6 + sqrt(3)*atan(sqrt(3)*(2*y**0.5 - 1)/3)/3"
      ]
     },
     "execution_count": 23,
     "metadata": {},
     "output_type": "execute_result"
    }
   ],
   "source": [
    "import sympy as sp\n",
    "y=sp.symbols('y')\n",
    "x=y**0.5\n",
    "\n",
    "eq=sp.log(x+1)/3 - sp.log(x**2-x+1)/6 + 1/sp.sqrt(3)*sp.atan((2*x-1)/sp.sqrt(3))\n",
    "eq"
   ]
  },
  {
   "cell_type": "markdown",
   "id": "9b3cfd84",
   "metadata": {},
   "source": [
    "ㄴ 그냥 x로 놓고 y로 치환해 적분"
   ]
  },
  {
   "cell_type": "code",
   "execution_count": 25,
   "id": "7d6f8f53",
   "metadata": {},
   "outputs": [
    {
     "ename": "PolynomialError",
     "evalue": "RisingFactorial(_t + 1, 2.0) contains an element of the set of generators.",
     "output_type": "error",
     "traceback": [
      "\u001b[1;31m---------------------------------------------------------------------------\u001b[0m",
      "\u001b[1;31mKeyError\u001b[0m                                  Traceback (most recent call last)",
      "File \u001b[1;32mD:\\anaconda\\lib\\site-packages\\sympy\\polys\\polyutils.py:211\u001b[0m, in \u001b[0;36m_parallel_dict_from_expr_if_gens\u001b[1;34m(exprs, opt)\u001b[0m\n\u001b[0;32m    209\u001b[0m         base, exp \u001b[38;5;241m=\u001b[39m decompose_power_rat(factor)\n\u001b[1;32m--> 211\u001b[0m     monom[\u001b[43mindices\u001b[49m\u001b[43m[\u001b[49m\u001b[43mbase\u001b[49m\u001b[43m]\u001b[49m] \u001b[38;5;241m=\u001b[39m exp\n\u001b[0;32m    212\u001b[0m \u001b[38;5;28;01mexcept\u001b[39;00m \u001b[38;5;167;01mKeyError\u001b[39;00m:\n",
      "\u001b[1;31mKeyError\u001b[0m: RisingFactorial(_t + 1, 2.0)",
      "\nDuring handling of the above exception, another exception occurred:\n",
      "\u001b[1;31mPolynomialError\u001b[0m                           Traceback (most recent call last)",
      "File \u001b[1;32mD:\\anaconda\\lib\\site-packages\\sympy\\polys\\partfrac.py:81\u001b[0m, in \u001b[0;36mapart\u001b[1;34m(f, x, full, **options)\u001b[0m\n\u001b[0;32m     80\u001b[0m \u001b[38;5;28;01mtry\u001b[39;00m:\n\u001b[1;32m---> 81\u001b[0m     (P, Q), opt \u001b[38;5;241m=\u001b[39m parallel_poly_from_expr((P, Q), x, \u001b[38;5;241m*\u001b[39m\u001b[38;5;241m*\u001b[39moptions)\n\u001b[0;32m     82\u001b[0m \u001b[38;5;28;01mexcept\u001b[39;00m PolynomialError \u001b[38;5;28;01mas\u001b[39;00m msg:\n",
      "File \u001b[1;32mD:\\anaconda\\lib\\site-packages\\sympy\\polys\\polytools.py:4411\u001b[0m, in \u001b[0;36mparallel_poly_from_expr\u001b[1;34m(exprs, *gens, **args)\u001b[0m\n\u001b[0;32m   4410\u001b[0m opt \u001b[38;5;241m=\u001b[39m options\u001b[38;5;241m.\u001b[39mbuild_options(gens, args)\n\u001b[1;32m-> 4411\u001b[0m \u001b[38;5;28;01mreturn\u001b[39;00m \u001b[43m_parallel_poly_from_expr\u001b[49m\u001b[43m(\u001b[49m\u001b[43mexprs\u001b[49m\u001b[43m,\u001b[49m\u001b[43m \u001b[49m\u001b[43mopt\u001b[49m\u001b[43m)\u001b[49m\n",
      "File \u001b[1;32mD:\\anaconda\\lib\\site-packages\\sympy\\polys\\polytools.py:4462\u001b[0m, in \u001b[0;36m_parallel_poly_from_expr\u001b[1;34m(exprs, opt)\u001b[0m\n\u001b[0;32m   4460\u001b[0m         exprs[i] \u001b[38;5;241m=\u001b[39m exprs[i]\u001b[38;5;241m.\u001b[39mas_expr()\n\u001b[1;32m-> 4462\u001b[0m reps, opt \u001b[38;5;241m=\u001b[39m \u001b[43m_parallel_dict_from_expr\u001b[49m\u001b[43m(\u001b[49m\u001b[43mexprs\u001b[49m\u001b[43m,\u001b[49m\u001b[43m \u001b[49m\u001b[43mopt\u001b[49m\u001b[43m)\u001b[49m\n\u001b[0;32m   4463\u001b[0m \u001b[38;5;28;01mif\u001b[39;00m \u001b[38;5;129;01mnot\u001b[39;00m opt\u001b[38;5;241m.\u001b[39mgens:\n",
      "File \u001b[1;32mD:\\anaconda\\lib\\site-packages\\sympy\\polys\\polyutils.py:332\u001b[0m, in \u001b[0;36m_parallel_dict_from_expr\u001b[1;34m(exprs, opt)\u001b[0m\n\u001b[0;32m    331\u001b[0m \u001b[38;5;28;01mif\u001b[39;00m opt\u001b[38;5;241m.\u001b[39mgens:\n\u001b[1;32m--> 332\u001b[0m     reps, gens \u001b[38;5;241m=\u001b[39m \u001b[43m_parallel_dict_from_expr_if_gens\u001b[49m\u001b[43m(\u001b[49m\u001b[43mexprs\u001b[49m\u001b[43m,\u001b[49m\u001b[43m \u001b[49m\u001b[43mopt\u001b[49m\u001b[43m)\u001b[49m\n\u001b[0;32m    333\u001b[0m \u001b[38;5;28;01melse\u001b[39;00m:\n",
      "File \u001b[1;32mD:\\anaconda\\lib\\site-packages\\sympy\\polys\\polyutils.py:216\u001b[0m, in \u001b[0;36m_parallel_dict_from_expr_if_gens\u001b[1;34m(exprs, opt)\u001b[0m\n\u001b[0;32m    215\u001b[0m             \u001b[38;5;28;01melse\u001b[39;00m:\n\u001b[1;32m--> 216\u001b[0m                 \u001b[38;5;28;01mraise\u001b[39;00m PolynomialError(\u001b[38;5;124m\"\u001b[39m\u001b[38;5;132;01m%s\u001b[39;00m\u001b[38;5;124m contains an element of \u001b[39m\u001b[38;5;124m\"\u001b[39m\n\u001b[0;32m    217\u001b[0m                                       \u001b[38;5;124m\"\u001b[39m\u001b[38;5;124mthe set of generators.\u001b[39m\u001b[38;5;124m\"\u001b[39m \u001b[38;5;241m%\u001b[39m factor)\n\u001b[0;32m    219\u001b[0m monom \u001b[38;5;241m=\u001b[39m \u001b[38;5;28mtuple\u001b[39m(monom)\n",
      "\u001b[1;31mPolynomialError\u001b[0m: RisingFactorial(_t + 1, 2.0) contains an element of the set of generators.",
      "\nDuring handling of the above exception, another exception occurred:\n",
      "\u001b[1;31mPolynomialError\u001b[0m                           Traceback (most recent call last)",
      "Cell \u001b[1;32mIn[25], line 5\u001b[0m\n\u001b[0;32m      2\u001b[0m y\u001b[38;5;241m=\u001b[39msp\u001b[38;5;241m.\u001b[39msymbols(\u001b[38;5;124m'\u001b[39m\u001b[38;5;124my\u001b[39m\u001b[38;5;124m'\u001b[39m)\n\u001b[0;32m      4\u001b[0m eq\u001b[38;5;241m=\u001b[39m\u001b[38;5;241m-\u001b[39msp\u001b[38;5;241m.\u001b[39mlog(y\u001b[38;5;241m*\u001b[39m\u001b[38;5;241m*\u001b[39m\u001b[38;5;241m0.5\u001b[39m\u001b[38;5;241m+\u001b[39m\u001b[38;5;241m1\u001b[39m)\u001b[38;5;241m/\u001b[39m\u001b[38;5;241m3\u001b[39m \u001b[38;5;241m+\u001b[39m sp\u001b[38;5;241m.\u001b[39mlog((y\u001b[38;5;241m*\u001b[39m\u001b[38;5;241m*\u001b[39m\u001b[38;5;241m0.5\u001b[39m)\u001b[38;5;241m*\u001b[39m\u001b[38;5;241m*\u001b[39m\u001b[38;5;241m2\u001b[39m\u001b[38;5;241m-\u001b[39m(y\u001b[38;5;241m*\u001b[39m\u001b[38;5;241m*\u001b[39m\u001b[38;5;241m0.5\u001b[39m)\u001b[38;5;241m+\u001b[39m\u001b[38;5;241m1\u001b[39m)\u001b[38;5;241m/\u001b[39m\u001b[38;5;241m6\u001b[39m \u001b[38;5;241m-\u001b[39m \u001b[38;5;241m1\u001b[39m\u001b[38;5;241m/\u001b[39msp\u001b[38;5;241m.\u001b[39msqrt(\u001b[38;5;241m3\u001b[39m)\u001b[38;5;241m*\u001b[39msp\u001b[38;5;241m.\u001b[39matan((\u001b[38;5;241m2\u001b[39m\u001b[38;5;241m*\u001b[39m(y\u001b[38;5;241m*\u001b[39m\u001b[38;5;241m*\u001b[39m\u001b[38;5;241m0.5\u001b[39m)\u001b[38;5;241m-\u001b[39m\u001b[38;5;241m1\u001b[39m)\u001b[38;5;241m/\u001b[39msp\u001b[38;5;241m.\u001b[39msqrt(\u001b[38;5;241m3\u001b[39m)) \u001b[38;5;241m-\u001b[39m\u001b[38;5;241m3\u001b[39m\u001b[38;5;241m*\u001b[39m\u001b[38;5;241m*\u001b[39m\u001b[38;5;241m0.5\u001b[39m\u001b[38;5;241m*\u001b[39msp\u001b[38;5;241m.\u001b[39mpi\u001b[38;5;241m/\u001b[39m\u001b[38;5;241m18\u001b[39m\n\u001b[1;32m----> 5\u001b[0m ieq\u001b[38;5;241m=\u001b[39m\u001b[43msp\u001b[49m\u001b[38;5;241;43m.\u001b[39;49m\u001b[43mintegrate\u001b[49m\u001b[43m(\u001b[49m\u001b[43meq\u001b[49m\u001b[43m,\u001b[49m\u001b[43my\u001b[49m\u001b[43m)\u001b[49m\n\u001b[0;32m      6\u001b[0m ieq\n",
      "File \u001b[1;32mD:\\anaconda\\lib\\site-packages\\sympy\\integrals\\integrals.py:1567\u001b[0m, in \u001b[0;36mintegrate\u001b[1;34m(meijerg, conds, risch, heurisch, manual, *args, **kwargs)\u001b[0m\n\u001b[0;32m   1564\u001b[0m integral \u001b[38;5;241m=\u001b[39m Integral(\u001b[38;5;241m*\u001b[39margs, \u001b[38;5;241m*\u001b[39m\u001b[38;5;241m*\u001b[39mkwargs)\n\u001b[0;32m   1566\u001b[0m \u001b[38;5;28;01mif\u001b[39;00m \u001b[38;5;28misinstance\u001b[39m(integral, Integral):\n\u001b[1;32m-> 1567\u001b[0m     \u001b[38;5;28;01mreturn\u001b[39;00m integral\u001b[38;5;241m.\u001b[39mdoit(\u001b[38;5;241m*\u001b[39m\u001b[38;5;241m*\u001b[39mdoit_flags)\n\u001b[0;32m   1568\u001b[0m \u001b[38;5;28;01melse\u001b[39;00m:\n\u001b[0;32m   1569\u001b[0m     new_args \u001b[38;5;241m=\u001b[39m [a\u001b[38;5;241m.\u001b[39mdoit(\u001b[38;5;241m*\u001b[39m\u001b[38;5;241m*\u001b[39mdoit_flags) \u001b[38;5;28;01mif\u001b[39;00m \u001b[38;5;28misinstance\u001b[39m(a, Integral) \u001b[38;5;28;01melse\u001b[39;00m a\n\u001b[0;32m   1570\u001b[0m         \u001b[38;5;28;01mfor\u001b[39;00m a \u001b[38;5;129;01min\u001b[39;00m integral\u001b[38;5;241m.\u001b[39margs]\n",
      "File \u001b[1;32mD:\\anaconda\\lib\\site-packages\\sympy\\integrals\\integrals.py:612\u001b[0m, in \u001b[0;36mIntegral.doit\u001b[1;34m(self, **hints)\u001b[0m\n\u001b[0;32m    610\u001b[0m     antideriv \u001b[38;5;241m=\u001b[39m \u001b[38;5;28;01mNone\u001b[39;00m\n\u001b[0;32m    611\u001b[0m \u001b[38;5;28;01melse\u001b[39;00m:\n\u001b[1;32m--> 612\u001b[0m     antideriv \u001b[38;5;241m=\u001b[39m \u001b[38;5;28mself\u001b[39m\u001b[38;5;241m.\u001b[39m_eval_integral(\n\u001b[0;32m    613\u001b[0m         function, xab[\u001b[38;5;241m0\u001b[39m], \u001b[38;5;241m*\u001b[39m\u001b[38;5;241m*\u001b[39meval_kwargs)\n\u001b[0;32m    614\u001b[0m     \u001b[38;5;28;01mif\u001b[39;00m antideriv \u001b[38;5;129;01mis\u001b[39;00m \u001b[38;5;28;01mNone\u001b[39;00m \u001b[38;5;129;01mand\u001b[39;00m meijerg \u001b[38;5;129;01mis\u001b[39;00m \u001b[38;5;28;01mTrue\u001b[39;00m:\n\u001b[0;32m    615\u001b[0m         ret \u001b[38;5;241m=\u001b[39m try_meijerg(function, xab)\n",
      "File \u001b[1;32mD:\\anaconda\\lib\\site-packages\\sympy\\integrals\\integrals.py:1098\u001b[0m, in \u001b[0;36mIntegral._eval_integral\u001b[1;34m(self, f, x, meijerg, risch, manual, heurisch, conds, final)\u001b[0m\n\u001b[0;32m   1095\u001b[0m \u001b[38;5;28;01mif\u001b[39;00m meijerg \u001b[38;5;129;01mis\u001b[39;00m \u001b[38;5;129;01mnot\u001b[39;00m \u001b[38;5;28;01mFalse\u001b[39;00m \u001b[38;5;129;01mand\u001b[39;00m h \u001b[38;5;129;01mis\u001b[39;00m \u001b[38;5;28;01mNone\u001b[39;00m:\n\u001b[0;32m   1096\u001b[0m     \u001b[38;5;66;03m# rewrite using G functions\u001b[39;00m\n\u001b[0;32m   1097\u001b[0m     \u001b[38;5;28;01mtry\u001b[39;00m:\n\u001b[1;32m-> 1098\u001b[0m         h \u001b[38;5;241m=\u001b[39m \u001b[43mmeijerint_indefinite\u001b[49m\u001b[43m(\u001b[49m\u001b[43mg\u001b[49m\u001b[43m,\u001b[49m\u001b[43m \u001b[49m\u001b[43mx\u001b[49m\u001b[43m)\u001b[49m\n\u001b[0;32m   1099\u001b[0m     \u001b[38;5;28;01mexcept\u001b[39;00m \u001b[38;5;167;01mNotImplementedError\u001b[39;00m:\n\u001b[0;32m   1100\u001b[0m         _debug(\u001b[38;5;124m'\u001b[39m\u001b[38;5;124mNotImplementedError from meijerint_definite\u001b[39m\u001b[38;5;124m'\u001b[39m)\n",
      "File \u001b[1;32mD:\\anaconda\\lib\\site-packages\\sympy\\integrals\\meijerint.py:1667\u001b[0m, in \u001b[0;36mmeijerint_indefinite\u001b[1;34m(f, x)\u001b[0m\n\u001b[0;32m   1665\u001b[0m results \u001b[38;5;241m=\u001b[39m []\n\u001b[0;32m   1666\u001b[0m \u001b[38;5;28;01mfor\u001b[39;00m a \u001b[38;5;129;01min\u001b[39;00m \u001b[38;5;28msorted\u001b[39m(_find_splitting_points(f, x) \u001b[38;5;241m|\u001b[39m {S\u001b[38;5;241m.\u001b[39mZero}, key\u001b[38;5;241m=\u001b[39mdefault_sort_key):\n\u001b[1;32m-> 1667\u001b[0m     res \u001b[38;5;241m=\u001b[39m \u001b[43m_meijerint_indefinite_1\u001b[49m\u001b[43m(\u001b[49m\u001b[43mf\u001b[49m\u001b[38;5;241;43m.\u001b[39;49m\u001b[43msubs\u001b[49m\u001b[43m(\u001b[49m\u001b[43mx\u001b[49m\u001b[43m,\u001b[49m\u001b[43m \u001b[49m\u001b[43mx\u001b[49m\u001b[43m \u001b[49m\u001b[38;5;241;43m+\u001b[39;49m\u001b[43m \u001b[49m\u001b[43ma\u001b[49m\u001b[43m)\u001b[49m\u001b[43m,\u001b[49m\u001b[43m \u001b[49m\u001b[43mx\u001b[49m\u001b[43m)\u001b[49m\n\u001b[0;32m   1668\u001b[0m     \u001b[38;5;28;01mif\u001b[39;00m \u001b[38;5;129;01mnot\u001b[39;00m res:\n\u001b[0;32m   1669\u001b[0m         \u001b[38;5;28;01mcontinue\u001b[39;00m\n",
      "File \u001b[1;32mD:\\anaconda\\lib\\site-packages\\sympy\\integrals\\meijerint.py:1734\u001b[0m, in \u001b[0;36m_meijerint_indefinite_1\u001b[1;34m(f, x)\u001b[0m\n\u001b[0;32m   1732\u001b[0m \u001b[38;5;28;01melse\u001b[39;00m:\n\u001b[0;32m   1733\u001b[0m     place \u001b[38;5;241m=\u001b[39m \u001b[38;5;28;01mNone\u001b[39;00m\n\u001b[1;32m-> 1734\u001b[0m r \u001b[38;5;241m=\u001b[39m \u001b[43mhyperexpand\u001b[49m\u001b[43m(\u001b[49m\u001b[43mr\u001b[49m\u001b[38;5;241;43m.\u001b[39;49m\u001b[43msubs\u001b[49m\u001b[43m(\u001b[49m\u001b[43mt\u001b[49m\u001b[43m,\u001b[49m\u001b[43m \u001b[49m\u001b[43ma\u001b[49m\u001b[38;5;241;43m*\u001b[39;49m\u001b[43mx\u001b[49m\u001b[38;5;241;43m*\u001b[39;49m\u001b[38;5;241;43m*\u001b[39;49m\u001b[43mb\u001b[49m\u001b[43m)\u001b[49m\u001b[43m,\u001b[49m\u001b[43m \u001b[49m\u001b[43mplace\u001b[49m\u001b[38;5;241;43m=\u001b[39;49m\u001b[43mplace\u001b[49m\u001b[43m)\u001b[49m\n\u001b[0;32m   1736\u001b[0m \u001b[38;5;66;03m# now substitute back\u001b[39;00m\n\u001b[0;32m   1737\u001b[0m \u001b[38;5;66;03m# Note: we really do want the powers of x to combine.\u001b[39;00m\n\u001b[0;32m   1738\u001b[0m res \u001b[38;5;241m+\u001b[39m\u001b[38;5;241m=\u001b[39m powdenest(fac_\u001b[38;5;241m*\u001b[39mr, polar\u001b[38;5;241m=\u001b[39m\u001b[38;5;28;01mTrue\u001b[39;00m)\n",
      "File \u001b[1;32mD:\\anaconda\\lib\\site-packages\\sympy\\simplify\\hyperexpand.py:2494\u001b[0m, in \u001b[0;36mhyperexpand\u001b[1;34m(f, allow_hyper, rewrite, place)\u001b[0m\n\u001b[0;32m   2492\u001b[0m     \u001b[38;5;28;01mif\u001b[39;00m \u001b[38;5;129;01mnot\u001b[39;00m r\u001b[38;5;241m.\u001b[39mhas(nan, zoo, oo, \u001b[38;5;241m-\u001b[39moo):\n\u001b[0;32m   2493\u001b[0m         \u001b[38;5;28;01mreturn\u001b[39;00m r\n\u001b[1;32m-> 2494\u001b[0m \u001b[38;5;28;01mreturn\u001b[39;00m \u001b[43mf\u001b[49m\u001b[38;5;241;43m.\u001b[39;49m\u001b[43mreplace\u001b[49m\u001b[43m(\u001b[49m\u001b[43mhyper\u001b[49m\u001b[43m,\u001b[49m\u001b[43m \u001b[49m\u001b[43mdo_replace\u001b[49m\u001b[43m)\u001b[49m\u001b[38;5;241;43m.\u001b[39;49m\u001b[43mreplace\u001b[49m\u001b[43m(\u001b[49m\u001b[43mmeijerg\u001b[49m\u001b[43m,\u001b[49m\u001b[43m \u001b[49m\u001b[43mdo_meijer\u001b[49m\u001b[43m)\u001b[49m\n",
      "File \u001b[1;32mD:\\anaconda\\lib\\site-packages\\sympy\\core\\basic.py:1581\u001b[0m, in \u001b[0;36mBasic.replace\u001b[1;34m(self, query, value, map, simultaneous, exact)\u001b[0m\n\u001b[0;32m   1578\u001b[0m             expr \u001b[38;5;241m=\u001b[39m v\n\u001b[0;32m   1579\u001b[0m     \u001b[38;5;28;01mreturn\u001b[39;00m expr\n\u001b[1;32m-> 1581\u001b[0m rv \u001b[38;5;241m=\u001b[39m \u001b[43mwalk\u001b[49m\u001b[43m(\u001b[49m\u001b[38;5;28;43mself\u001b[39;49m\u001b[43m,\u001b[49m\u001b[43m \u001b[49m\u001b[43mrec_replace\u001b[49m\u001b[43m)\u001b[49m\n\u001b[0;32m   1582\u001b[0m \u001b[38;5;28;01mreturn\u001b[39;00m (rv, mapping) \u001b[38;5;28;01mif\u001b[39;00m \u001b[38;5;28mmap\u001b[39m \u001b[38;5;28;01melse\u001b[39;00m rv\n",
      "File \u001b[1;32mD:\\anaconda\\lib\\site-packages\\sympy\\core\\basic.py:1566\u001b[0m, in \u001b[0;36mBasic.replace.<locals>.walk\u001b[1;34m(rv, F)\u001b[0m\n\u001b[0;32m   1564\u001b[0m                     \u001b[38;5;28;01mif\u001b[39;00m rv \u001b[38;5;241m==\u001b[39m e \u001b[38;5;129;01mand\u001b[39;00m e \u001b[38;5;241m!=\u001b[39m newargs[i]:\n\u001b[0;32m   1565\u001b[0m                         \u001b[38;5;28;01mreturn\u001b[39;00m rv\n\u001b[1;32m-> 1566\u001b[0m     rv \u001b[38;5;241m=\u001b[39m \u001b[43mF\u001b[49m\u001b[43m(\u001b[49m\u001b[43mrv\u001b[49m\u001b[43m)\u001b[49m\n\u001b[0;32m   1567\u001b[0m \u001b[38;5;28;01mreturn\u001b[39;00m rv\n",
      "File \u001b[1;32mD:\\anaconda\\lib\\site-packages\\sympy\\core\\basic.py:1574\u001b[0m, in \u001b[0;36mBasic.replace.<locals>.rec_replace\u001b[1;34m(expr)\u001b[0m\n\u001b[0;32m   1572\u001b[0m result \u001b[38;5;241m=\u001b[39m _query(expr)\n\u001b[0;32m   1573\u001b[0m \u001b[38;5;28;01mif\u001b[39;00m result \u001b[38;5;129;01mor\u001b[39;00m result \u001b[38;5;241m==\u001b[39m {}:\n\u001b[1;32m-> 1574\u001b[0m     v \u001b[38;5;241m=\u001b[39m \u001b[43m_value\u001b[49m\u001b[43m(\u001b[49m\u001b[43mexpr\u001b[49m\u001b[43m,\u001b[49m\u001b[43m \u001b[49m\u001b[43mresult\u001b[49m\u001b[43m)\u001b[49m\n\u001b[0;32m   1575\u001b[0m     \u001b[38;5;28;01mif\u001b[39;00m v \u001b[38;5;129;01mis\u001b[39;00m \u001b[38;5;129;01mnot\u001b[39;00m \u001b[38;5;28;01mNone\u001b[39;00m \u001b[38;5;129;01mand\u001b[39;00m v \u001b[38;5;241m!=\u001b[39m expr:\n\u001b[0;32m   1576\u001b[0m         \u001b[38;5;28;01mif\u001b[39;00m \u001b[38;5;28mmap\u001b[39m:\n",
      "File \u001b[1;32mD:\\anaconda\\lib\\site-packages\\sympy\\core\\basic.py:1503\u001b[0m, in \u001b[0;36mBasic.replace.<locals>.<lambda>\u001b[1;34m(expr, result)\u001b[0m\n\u001b[0;32m   1501\u001b[0m     _value \u001b[38;5;241m=\u001b[39m \u001b[38;5;28;01mlambda\u001b[39;00m expr, result: value(\u001b[38;5;241m*\u001b[39mexpr\u001b[38;5;241m.\u001b[39margs)\n\u001b[0;32m   1502\u001b[0m \u001b[38;5;28;01melif\u001b[39;00m callable(value):\n\u001b[1;32m-> 1503\u001b[0m     _value \u001b[38;5;241m=\u001b[39m \u001b[38;5;28;01mlambda\u001b[39;00m expr, result: \u001b[43mvalue\u001b[49m\u001b[43m(\u001b[49m\u001b[38;5;241;43m*\u001b[39;49m\u001b[43mexpr\u001b[49m\u001b[38;5;241;43m.\u001b[39;49m\u001b[43margs\u001b[49m\u001b[43m)\u001b[49m\n\u001b[0;32m   1504\u001b[0m \u001b[38;5;28;01melse\u001b[39;00m:\n\u001b[0;32m   1505\u001b[0m     \u001b[38;5;28;01mraise\u001b[39;00m \u001b[38;5;167;01mTypeError\u001b[39;00m(\n\u001b[0;32m   1506\u001b[0m         \u001b[38;5;124m\"\u001b[39m\u001b[38;5;124mgiven a type, replace() expects another \u001b[39m\u001b[38;5;124m\"\u001b[39m\n\u001b[0;32m   1507\u001b[0m         \u001b[38;5;124m\"\u001b[39m\u001b[38;5;124mtype or a callable\u001b[39m\u001b[38;5;124m\"\u001b[39m)\n",
      "File \u001b[1;32mD:\\anaconda\\lib\\site-packages\\sympy\\simplify\\hyperexpand.py:2490\u001b[0m, in \u001b[0;36mhyperexpand.<locals>.do_meijer\u001b[1;34m(ap, bq, z)\u001b[0m\n\u001b[0;32m   2489\u001b[0m \u001b[38;5;28;01mdef\u001b[39;00m \u001b[38;5;21mdo_meijer\u001b[39m(ap, bq, z):\n\u001b[1;32m-> 2490\u001b[0m     r \u001b[38;5;241m=\u001b[39m \u001b[43m_meijergexpand\u001b[49m\u001b[43m(\u001b[49m\u001b[43mG_Function\u001b[49m\u001b[43m(\u001b[49m\u001b[43map\u001b[49m\u001b[43m[\u001b[49m\u001b[38;5;241;43m0\u001b[39;49m\u001b[43m]\u001b[49m\u001b[43m,\u001b[49m\u001b[43m \u001b[49m\u001b[43map\u001b[49m\u001b[43m[\u001b[49m\u001b[38;5;241;43m1\u001b[39;49m\u001b[43m]\u001b[49m\u001b[43m,\u001b[49m\u001b[43m \u001b[49m\u001b[43mbq\u001b[49m\u001b[43m[\u001b[49m\u001b[38;5;241;43m0\u001b[39;49m\u001b[43m]\u001b[49m\u001b[43m,\u001b[49m\u001b[43m \u001b[49m\u001b[43mbq\u001b[49m\u001b[43m[\u001b[49m\u001b[38;5;241;43m1\u001b[39;49m\u001b[43m]\u001b[49m\u001b[43m)\u001b[49m\u001b[43m,\u001b[49m\u001b[43m \u001b[49m\u001b[43mz\u001b[49m\u001b[43m,\u001b[49m\n\u001b[0;32m   2491\u001b[0m \u001b[43m               \u001b[49m\u001b[43mallow_hyper\u001b[49m\u001b[43m,\u001b[49m\u001b[43m \u001b[49m\u001b[43mrewrite\u001b[49m\u001b[38;5;241;43m=\u001b[39;49m\u001b[43mrewrite\u001b[49m\u001b[43m,\u001b[49m\u001b[43m \u001b[49m\u001b[43mplace\u001b[49m\u001b[38;5;241;43m=\u001b[39;49m\u001b[43mplace\u001b[49m\u001b[43m)\u001b[49m\n\u001b[0;32m   2492\u001b[0m     \u001b[38;5;28;01mif\u001b[39;00m \u001b[38;5;129;01mnot\u001b[39;00m r\u001b[38;5;241m.\u001b[39mhas(nan, zoo, oo, \u001b[38;5;241m-\u001b[39moo):\n\u001b[0;32m   2493\u001b[0m         \u001b[38;5;28;01mreturn\u001b[39;00m r\n",
      "File \u001b[1;32mD:\\anaconda\\lib\\site-packages\\sympy\\simplify\\hyperexpand.py:2368\u001b[0m, in \u001b[0;36m_meijergexpand\u001b[1;34m(func, z0, allow_hyper, rewrite, place)\u001b[0m\n\u001b[0;32m   2365\u001b[0m     \u001b[38;5;28;01mreturn\u001b[39;00m res, cond\n\u001b[0;32m   2367\u001b[0m t \u001b[38;5;241m=\u001b[39m Dummy(\u001b[38;5;124m'\u001b[39m\u001b[38;5;124mt\u001b[39m\u001b[38;5;124m'\u001b[39m)\n\u001b[1;32m-> 2368\u001b[0m slater1, cond1 \u001b[38;5;241m=\u001b[39m \u001b[43mdo_slater\u001b[49m\u001b[43m(\u001b[49m\u001b[43mfunc\u001b[49m\u001b[38;5;241;43m.\u001b[39;49m\u001b[43man\u001b[49m\u001b[43m,\u001b[49m\u001b[43m \u001b[49m\u001b[43mfunc\u001b[49m\u001b[38;5;241;43m.\u001b[39;49m\u001b[43mbm\u001b[49m\u001b[43m,\u001b[49m\u001b[43m \u001b[49m\u001b[43mfunc\u001b[49m\u001b[38;5;241;43m.\u001b[39;49m\u001b[43map\u001b[49m\u001b[43m,\u001b[49m\u001b[43m \u001b[49m\u001b[43mfunc\u001b[49m\u001b[38;5;241;43m.\u001b[39;49m\u001b[43mbq\u001b[49m\u001b[43m,\u001b[49m\u001b[43m \u001b[49m\u001b[43mz\u001b[49m\u001b[43m,\u001b[49m\u001b[43m \u001b[49m\u001b[43mz0\u001b[49m\u001b[43m)\u001b[49m\n\u001b[0;32m   2370\u001b[0m \u001b[38;5;28;01mdef\u001b[39;00m \u001b[38;5;21mtr\u001b[39m(l):\n\u001b[0;32m   2371\u001b[0m     \u001b[38;5;28;01mreturn\u001b[39;00m [\u001b[38;5;241m1\u001b[39m \u001b[38;5;241m-\u001b[39m x \u001b[38;5;28;01mfor\u001b[39;00m x \u001b[38;5;129;01min\u001b[39;00m l]\n",
      "File \u001b[1;32mD:\\anaconda\\lib\\site-packages\\sympy\\simplify\\hyperexpand.py:2301\u001b[0m, in \u001b[0;36m_meijergexpand.<locals>.do_slater\u001b[1;34m(an, bm, ap, bq, z, zfinal)\u001b[0m\n\u001b[0;32m   2298\u001b[0m     \u001b[38;5;66;03m# NOTE even though k \"is\" +-1, this has to be t/k instead of\u001b[39;00m\n\u001b[0;32m   2299\u001b[0m     \u001b[38;5;66;03m#      t*k ... we are using polar numbers for consistency!\u001b[39;00m\n\u001b[0;32m   2300\u001b[0m     premult \u001b[38;5;241m=\u001b[39m (t\u001b[38;5;241m/\u001b[39mk)\u001b[38;5;241m*\u001b[39m\u001b[38;5;241m*\u001b[39mbh\n\u001b[1;32m-> 2301\u001b[0m     hyp \u001b[38;5;241m=\u001b[39m \u001b[43m_hyperexpand\u001b[49m\u001b[43m(\u001b[49m\u001b[43mHyper_Function\u001b[49m\u001b[43m(\u001b[49m\u001b[43mnap\u001b[49m\u001b[43m,\u001b[49m\u001b[43m \u001b[49m\u001b[43mnbq\u001b[49m\u001b[43m)\u001b[49m\u001b[43m,\u001b[49m\u001b[43m \u001b[49m\u001b[43mharg\u001b[49m\u001b[43m,\u001b[49m\u001b[43m \u001b[49m\u001b[43mops\u001b[49m\u001b[43m,\u001b[49m\n\u001b[0;32m   2302\u001b[0m \u001b[43m                       \u001b[49m\u001b[43mt\u001b[49m\u001b[43m,\u001b[49m\u001b[43m \u001b[49m\u001b[43mpremult\u001b[49m\u001b[43m,\u001b[49m\u001b[43m \u001b[49m\u001b[43mbh\u001b[49m\u001b[43m,\u001b[49m\u001b[43m \u001b[49m\u001b[43mrewrite\u001b[49m\u001b[38;5;241;43m=\u001b[39;49m\u001b[38;5;28;43;01mNone\u001b[39;49;00m\u001b[43m)\u001b[49m\n\u001b[0;32m   2303\u001b[0m     res \u001b[38;5;241m+\u001b[39m\u001b[38;5;241m=\u001b[39m fac \u001b[38;5;241m*\u001b[39m hyp\n\u001b[0;32m   2304\u001b[0m \u001b[38;5;28;01melse\u001b[39;00m:\n",
      "File \u001b[1;32mD:\\anaconda\\lib\\site-packages\\sympy\\simplify\\hyperexpand.py:2042\u001b[0m, in \u001b[0;36m_hyperexpand\u001b[1;34m(func, z, ops0, z0, premult, prem, rewrite)\u001b[0m\n\u001b[0;32m   2040\u001b[0m \u001b[38;5;66;03m# Now try a lerch phi formula\u001b[39;00m\n\u001b[0;32m   2041\u001b[0m \u001b[38;5;28;01mif\u001b[39;00m formula \u001b[38;5;129;01mis\u001b[39;00m \u001b[38;5;28;01mNone\u001b[39;00m:\n\u001b[1;32m-> 2042\u001b[0m     formula \u001b[38;5;241m=\u001b[39m \u001b[43mtry_lerchphi\u001b[49m\u001b[43m(\u001b[49m\u001b[43mfunc\u001b[49m\u001b[43m)\u001b[49m\n\u001b[0;32m   2044\u001b[0m \u001b[38;5;28;01mif\u001b[39;00m formula \u001b[38;5;129;01mis\u001b[39;00m \u001b[38;5;28;01mNone\u001b[39;00m:\n\u001b[0;32m   2045\u001b[0m     debug(\u001b[38;5;124m'\u001b[39m\u001b[38;5;124m  Could not find an origin. \u001b[39m\u001b[38;5;124m'\u001b[39m,\n\u001b[0;32m   2046\u001b[0m           \u001b[38;5;124m'\u001b[39m\u001b[38;5;124mWill return answer in terms of \u001b[39m\u001b[38;5;124m'\u001b[39m\n\u001b[0;32m   2047\u001b[0m           \u001b[38;5;124m'\u001b[39m\u001b[38;5;124msimpler hypergeometric functions.\u001b[39m\u001b[38;5;124m'\u001b[39m)\n",
      "File \u001b[1;32mD:\\anaconda\\lib\\site-packages\\sympy\\simplify\\hyperexpand.py:1779\u001b[0m, in \u001b[0;36mtry_lerchphi\u001b[1;34m(func)\u001b[0m\n\u001b[0;32m   1773\u001b[0m             denom \u001b[38;5;241m*\u001b[39m\u001b[38;5;241m=\u001b[39m rf(a \u001b[38;5;241m+\u001b[39m t, k)\n\u001b[0;32m   1775\u001b[0m \u001b[38;5;66;03m# Now do a partial fraction decomposition.\u001b[39;00m\n\u001b[0;32m   1776\u001b[0m \u001b[38;5;66;03m# We assemble two structures: a list monomials of pairs (a, b) representing\u001b[39;00m\n\u001b[0;32m   1777\u001b[0m \u001b[38;5;66;03m# a*t**b (b a non-negative integer), and a dict terms, where\u001b[39;00m\n\u001b[0;32m   1778\u001b[0m \u001b[38;5;66;03m# terms[a] = [(b, c)] means that there is a term b/(t-a)**c.\u001b[39;00m\n\u001b[1;32m-> 1779\u001b[0m part \u001b[38;5;241m=\u001b[39m \u001b[43mapart\u001b[49m\u001b[43m(\u001b[49m\u001b[43mnumer\u001b[49m\u001b[38;5;241;43m/\u001b[39;49m\u001b[43mdenom\u001b[49m\u001b[43m,\u001b[49m\u001b[43m \u001b[49m\u001b[43mt\u001b[49m\u001b[43m)\u001b[49m\n\u001b[0;32m   1780\u001b[0m args \u001b[38;5;241m=\u001b[39m Add\u001b[38;5;241m.\u001b[39mmake_args(part)\n\u001b[0;32m   1781\u001b[0m monomials \u001b[38;5;241m=\u001b[39m []\n",
      "File \u001b[1;32mD:\\anaconda\\lib\\site-packages\\sympy\\utilities\\decorator.py:35\u001b[0m, in \u001b[0;36mthreaded_factory.<locals>.threaded_func\u001b[1;34m(expr, *args, **kwargs)\u001b[0m\n\u001b[0;32m     32\u001b[0m     \u001b[38;5;28;01mreturn\u001b[39;00m expr\u001b[38;5;241m.\u001b[39m\u001b[38;5;18m__class__\u001b[39m(func(expr\u001b[38;5;241m.\u001b[39mlhs, \u001b[38;5;241m*\u001b[39margs, \u001b[38;5;241m*\u001b[39m\u001b[38;5;241m*\u001b[39mkwargs),\n\u001b[0;32m     33\u001b[0m                           func(expr\u001b[38;5;241m.\u001b[39mrhs, \u001b[38;5;241m*\u001b[39margs, \u001b[38;5;241m*\u001b[39m\u001b[38;5;241m*\u001b[39mkwargs))\n\u001b[0;32m     34\u001b[0m \u001b[38;5;28;01melse\u001b[39;00m:\n\u001b[1;32m---> 35\u001b[0m     \u001b[38;5;28;01mreturn\u001b[39;00m func(expr, \u001b[38;5;241m*\u001b[39margs, \u001b[38;5;241m*\u001b[39m\u001b[38;5;241m*\u001b[39mkwargs)\n",
      "File \u001b[1;32mD:\\anaconda\\lib\\site-packages\\sympy\\polys\\partfrac.py:84\u001b[0m, in \u001b[0;36mapart\u001b[1;34m(f, x, full, **options)\u001b[0m\n\u001b[0;32m     82\u001b[0m \u001b[38;5;28;01mexcept\u001b[39;00m PolynomialError \u001b[38;5;28;01mas\u001b[39;00m msg:\n\u001b[0;32m     83\u001b[0m     \u001b[38;5;28;01mif\u001b[39;00m f\u001b[38;5;241m.\u001b[39mis_commutative:\n\u001b[1;32m---> 84\u001b[0m         \u001b[38;5;28;01mraise\u001b[39;00m PolynomialError(msg)\n\u001b[0;32m     85\u001b[0m     \u001b[38;5;66;03m# non-commutative\u001b[39;00m\n\u001b[0;32m     86\u001b[0m     \u001b[38;5;28;01mif\u001b[39;00m f\u001b[38;5;241m.\u001b[39mis_Mul:\n",
      "\u001b[1;31mPolynomialError\u001b[0m: RisingFactorial(_t + 1, 2.0) contains an element of the set of generators."
     ]
    }
   ],
   "source": [
    "import sympy as sp\n",
    "y=sp.symbols('y')\n",
    "\n",
    "eq=-sp.log(y**0.5+1)/3 + sp.log((y**0.5)**2-(y**0.5)+1)/6 - 1/sp.sqrt(3)*sp.atan((2*(y**0.5)-1)/sp.sqrt(3)) -3**0.5*sp.pi/18\n",
    "ieq=sp.integrate(eq,y)\n",
    "ieq"
   ]
  },
  {
   "cell_type": "markdown",
   "id": "a72af0c3",
   "metadata": {},
   "source": [
    "ㄴ 적분이 되지 않는다.\n",
    "\n",
    "# ㄴ 이 부분 메일에서 삭제\n",
    "\n",
    "## 14.2.4)\n",
    "\n",
    "검산용으로 확인"
   ]
  },
  {
   "cell_type": "code",
   "execution_count": 26,
   "id": "77514a68",
   "metadata": {},
   "outputs": [
    {
     "data": {
      "text/latex": [
       "$\\displaystyle - \\pi e^{- r^{2}}$"
      ],
      "text/plain": [
       "-pi*exp(-r**2)"
      ]
     },
     "execution_count": 26,
     "metadata": {},
     "output_type": "execute_result"
    }
   ],
   "source": [
    "import sympy as sp\n",
    "r=sp.symbols('r')\n",
    "\n",
    "eq=2*sp.pi * r*sp.exp(-r**2)\n",
    "ieq=sp.integrate(eq,r)\n",
    "ieq"
   ]
  },
  {
   "cell_type": "markdown",
   "id": "53d4a04a",
   "metadata": {},
   "source": [
    "ㄴ 적분 결과가 전산과 다르게 나온다. 과정 확인이 필요하다\n",
    "\n",
    "## 14.2.7)"
   ]
  },
  {
   "cell_type": "code",
   "execution_count": 30,
   "id": "b623a760",
   "metadata": {},
   "outputs": [
    {
     "data": {
      "text/latex": [
       "$\\displaystyle - 0.0833333333333333 \\sin^{4}{\\left(\\theta \\right)} + 2.66666666666667 \\sin{\\left(\\theta \\right)}$"
      ],
      "text/plain": [
       "-0.0833333333333333*sin(theta)**4 + 2.66666666666667*sin(theta)"
      ]
     },
     "execution_count": 30,
     "metadata": {},
     "output_type": "execute_result"
    }
   ],
   "source": [
    "import sympy as sp\n",
    "a=sp.symbols('theta')\n",
    "\n",
    "eq=8/3*sp.cos(a) - 1/3*(sp.sin(a))**3*sp.cos(a)\n",
    "ieq=sp.integrate(eq,a)\n",
    "ieq"
   ]
  },
  {
   "cell_type": "markdown",
   "id": "df253f16",
   "metadata": {},
   "source": [
    "보고서 적분파트 끝"
   ]
  },
  {
   "cell_type": "code",
   "execution_count": null,
   "id": "b9f0c166",
   "metadata": {},
   "outputs": [],
   "source": []
  }
 ],
 "metadata": {
  "kernelspec": {
   "display_name": "Python 3 (ipykernel)",
   "language": "python",
   "name": "python3"
  },
  "language_info": {
   "codemirror_mode": {
    "name": "ipython",
    "version": 3
   },
   "file_extension": ".py",
   "mimetype": "text/x-python",
   "name": "python",
   "nbconvert_exporter": "python",
   "pygments_lexer": "ipython3",
   "version": "3.10.9"
  }
 },
 "nbformat": 4,
 "nbformat_minor": 5
}
